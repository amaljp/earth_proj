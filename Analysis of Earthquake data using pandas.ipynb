{
 "cells": [
  {
   "cell_type": "code",
   "execution_count": 3,
   "id": "d0703ead",
   "metadata": {},
   "outputs": [],
   "source": [
    "import numpy as np\n",
    "import pandas as pd\n",
    "import matplotlib.pyplot as plt\n",
    "import seaborn as sns\n",
    "%matplotlib inline"
   ]
  },
  {
   "cell_type": "code",
   "execution_count": 4,
   "id": "7b840694",
   "metadata": {},
   "outputs": [],
   "source": [
    "earthquakes = pd.read_csv('http://www.ldeo.columbia.edu/~rpa/usgs_earthquakes_2014.csv')"
   ]
  },
  {
   "cell_type": "code",
   "execution_count": 5,
   "id": "6f0eb791",
   "metadata": {},
   "outputs": [
    {
     "data": {
      "text/html": [
       "<div>\n",
       "<style scoped>\n",
       "    .dataframe tbody tr th:only-of-type {\n",
       "        vertical-align: middle;\n",
       "    }\n",
       "\n",
       "    .dataframe tbody tr th {\n",
       "        vertical-align: top;\n",
       "    }\n",
       "\n",
       "    .dataframe thead th {\n",
       "        text-align: right;\n",
       "    }\n",
       "</style>\n",
       "<table border=\"1\" class=\"dataframe\">\n",
       "  <thead>\n",
       "    <tr style=\"text-align: right;\">\n",
       "      <th></th>\n",
       "      <th>time</th>\n",
       "      <th>latitude</th>\n",
       "      <th>longitude</th>\n",
       "      <th>depth</th>\n",
       "      <th>mag</th>\n",
       "      <th>magType</th>\n",
       "      <th>nst</th>\n",
       "      <th>gap</th>\n",
       "      <th>dmin</th>\n",
       "      <th>rms</th>\n",
       "      <th>net</th>\n",
       "      <th>id</th>\n",
       "      <th>updated</th>\n",
       "      <th>place</th>\n",
       "      <th>type</th>\n",
       "    </tr>\n",
       "  </thead>\n",
       "  <tbody>\n",
       "    <tr>\n",
       "      <th>0</th>\n",
       "      <td>2014-01-31 23:53:37.000</td>\n",
       "      <td>60.2520</td>\n",
       "      <td>-152.7081</td>\n",
       "      <td>90.2</td>\n",
       "      <td>1.10</td>\n",
       "      <td>ml</td>\n",
       "      <td>NaN</td>\n",
       "      <td>NaN</td>\n",
       "      <td>NaN</td>\n",
       "      <td>0.2900</td>\n",
       "      <td>ak</td>\n",
       "      <td>ak11155107</td>\n",
       "      <td>2014-02-05T19:34:41.515Z</td>\n",
       "      <td>26km S of Redoubt Volcano, Alaska</td>\n",
       "      <td>earthquake</td>\n",
       "    </tr>\n",
       "    <tr>\n",
       "      <th>1</th>\n",
       "      <td>2014-01-31 23:48:35.452</td>\n",
       "      <td>37.0703</td>\n",
       "      <td>-115.1309</td>\n",
       "      <td>0.0</td>\n",
       "      <td>1.33</td>\n",
       "      <td>ml</td>\n",
       "      <td>4.0</td>\n",
       "      <td>171.43</td>\n",
       "      <td>0.342</td>\n",
       "      <td>0.0247</td>\n",
       "      <td>nn</td>\n",
       "      <td>nn00436847</td>\n",
       "      <td>2014-02-01T01:35:09.000Z</td>\n",
       "      <td>32km S of Alamo, Nevada</td>\n",
       "      <td>earthquake</td>\n",
       "    </tr>\n",
       "    <tr>\n",
       "      <th>2</th>\n",
       "      <td>2014-01-31 23:47:24.000</td>\n",
       "      <td>64.6717</td>\n",
       "      <td>-149.2528</td>\n",
       "      <td>7.1</td>\n",
       "      <td>1.30</td>\n",
       "      <td>ml</td>\n",
       "      <td>NaN</td>\n",
       "      <td>NaN</td>\n",
       "      <td>NaN</td>\n",
       "      <td>1.0000</td>\n",
       "      <td>ak</td>\n",
       "      <td>ak11151142</td>\n",
       "      <td>2014-02-01T00:03:53.010Z</td>\n",
       "      <td>12km NNW of North Nenana, Alaska</td>\n",
       "      <td>earthquake</td>\n",
       "    </tr>\n",
       "    <tr>\n",
       "      <th>3</th>\n",
       "      <td>2014-01-31 23:30:54.000</td>\n",
       "      <td>63.1887</td>\n",
       "      <td>-148.9575</td>\n",
       "      <td>96.5</td>\n",
       "      <td>0.80</td>\n",
       "      <td>ml</td>\n",
       "      <td>NaN</td>\n",
       "      <td>NaN</td>\n",
       "      <td>NaN</td>\n",
       "      <td>1.0700</td>\n",
       "      <td>ak</td>\n",
       "      <td>ak11151135</td>\n",
       "      <td>2014-01-31T23:41:25.007Z</td>\n",
       "      <td>22km S of Cantwell, Alaska</td>\n",
       "      <td>earthquake</td>\n",
       "    </tr>\n",
       "  </tbody>\n",
       "</table>\n",
       "</div>"
      ],
      "text/plain": [
       "                      time  latitude  longitude  depth   mag magType  nst  \\\n",
       "0  2014-01-31 23:53:37.000   60.2520  -152.7081   90.2  1.10      ml  NaN   \n",
       "1  2014-01-31 23:48:35.452   37.0703  -115.1309    0.0  1.33      ml  4.0   \n",
       "2  2014-01-31 23:47:24.000   64.6717  -149.2528    7.1  1.30      ml  NaN   \n",
       "3  2014-01-31 23:30:54.000   63.1887  -148.9575   96.5  0.80      ml  NaN   \n",
       "\n",
       "      gap   dmin     rms net          id                   updated  \\\n",
       "0     NaN    NaN  0.2900  ak  ak11155107  2014-02-05T19:34:41.515Z   \n",
       "1  171.43  0.342  0.0247  nn  nn00436847  2014-02-01T01:35:09.000Z   \n",
       "2     NaN    NaN  1.0000  ak  ak11151142  2014-02-01T00:03:53.010Z   \n",
       "3     NaN    NaN  1.0700  ak  ak11151135  2014-01-31T23:41:25.007Z   \n",
       "\n",
       "                               place        type  \n",
       "0  26km S of Redoubt Volcano, Alaska  earthquake  \n",
       "1            32km S of Alamo, Nevada  earthquake  \n",
       "2   12km NNW of North Nenana, Alaska  earthquake  \n",
       "3         22km S of Cantwell, Alaska  earthquake  "
      ]
     },
     "execution_count": 5,
     "metadata": {},
     "output_type": "execute_result"
    }
   ],
   "source": [
    "earthquakes.head(4)"
   ]
  },
  {
   "cell_type": "code",
   "execution_count": 6,
   "id": "006b6671",
   "metadata": {},
   "outputs": [
    {
     "name": "stdout",
     "output_type": "stream",
     "text": [
      "<class 'pandas.core.frame.DataFrame'>\n",
      "RangeIndex: 120108 entries, 0 to 120107\n",
      "Data columns (total 15 columns):\n",
      " #   Column     Non-Null Count   Dtype  \n",
      "---  ------     --------------   -----  \n",
      " 0   time       120108 non-null  object \n",
      " 1   latitude   120108 non-null  float64\n",
      " 2   longitude  120108 non-null  float64\n",
      " 3   depth      120107 non-null  float64\n",
      " 4   mag        120065 non-null  float64\n",
      " 5   magType    120065 non-null  object \n",
      " 6   nst        59688 non-null   float64\n",
      " 7   gap        94935 non-null   float64\n",
      " 8   dmin       85682 non-null   float64\n",
      " 9   rms        119716 non-null  float64\n",
      " 10  net        120108 non-null  object \n",
      " 11  id         120108 non-null  object \n",
      " 12  updated    120108 non-null  object \n",
      " 13  place      120108 non-null  object \n",
      " 14  type       120108 non-null  object \n",
      "dtypes: float64(8), object(7)\n",
      "memory usage: 13.7+ MB\n"
     ]
    }
   ],
   "source": [
    "earthquakes.info(5)"
   ]
  },
  {
   "cell_type": "code",
   "execution_count": 7,
   "id": "1c232401",
   "metadata": {},
   "outputs": [
    {
     "data": {
      "text/plain": [
       "dtype('O')"
      ]
     },
     "execution_count": 7,
     "metadata": {},
     "output_type": "execute_result"
    }
   ],
   "source": [
    "earthquakes['time'].dtype"
   ]
  },
  {
   "cell_type": "markdown",
   "id": "008bac34",
   "metadata": {},
   "source": [
    "not parsed as datetime object. re reading the file to parse time col as datetime64 obj"
   ]
  },
  {
   "cell_type": "code",
   "execution_count": 8,
   "id": "38fa49b0",
   "metadata": {},
   "outputs": [],
   "source": [
    "earthquakes = pd.read_csv('http://www.ldeo.columbia.edu/~rpa/usgs_earthquakes_2014.csv', parse_dates= [0])\n"
   ]
  },
  {
   "cell_type": "code",
   "execution_count": 9,
   "id": "9c8b3516",
   "metadata": {},
   "outputs": [
    {
     "name": "stdout",
     "output_type": "stream",
     "text": [
      "<class 'pandas.core.frame.DataFrame'>\n",
      "RangeIndex: 120108 entries, 0 to 120107\n",
      "Data columns (total 15 columns):\n",
      " #   Column     Non-Null Count   Dtype         \n",
      "---  ------     --------------   -----         \n",
      " 0   time       120108 non-null  datetime64[ns]\n",
      " 1   latitude   120108 non-null  float64       \n",
      " 2   longitude  120108 non-null  float64       \n",
      " 3   depth      120107 non-null  float64       \n",
      " 4   mag        120065 non-null  float64       \n",
      " 5   magType    120065 non-null  object        \n",
      " 6   nst        59688 non-null   float64       \n",
      " 7   gap        94935 non-null   float64       \n",
      " 8   dmin       85682 non-null   float64       \n",
      " 9   rms        119716 non-null  float64       \n",
      " 10  net        120108 non-null  object        \n",
      " 11  id         120108 non-null  object        \n",
      " 12  updated    120108 non-null  object        \n",
      " 13  place      120108 non-null  object        \n",
      " 14  type       120108 non-null  object        \n",
      "dtypes: datetime64[ns](1), float64(8), object(6)\n",
      "memory usage: 13.7+ MB\n"
     ]
    }
   ],
   "source": [
    "earthquakes.info()"
   ]
  },
  {
   "cell_type": "code",
   "execution_count": 10,
   "id": "3187efde",
   "metadata": {},
   "outputs": [
    {
     "data": {
      "text/html": [
       "<div>\n",
       "<style scoped>\n",
       "    .dataframe tbody tr th:only-of-type {\n",
       "        vertical-align: middle;\n",
       "    }\n",
       "\n",
       "    .dataframe tbody tr th {\n",
       "        vertical-align: top;\n",
       "    }\n",
       "\n",
       "    .dataframe thead th {\n",
       "        text-align: right;\n",
       "    }\n",
       "</style>\n",
       "<table border=\"1\" class=\"dataframe\">\n",
       "  <thead>\n",
       "    <tr style=\"text-align: right;\">\n",
       "      <th></th>\n",
       "      <th>time</th>\n",
       "      <th>latitude</th>\n",
       "      <th>longitude</th>\n",
       "      <th>depth</th>\n",
       "      <th>mag</th>\n",
       "      <th>magType</th>\n",
       "      <th>nst</th>\n",
       "      <th>gap</th>\n",
       "      <th>dmin</th>\n",
       "      <th>rms</th>\n",
       "      <th>net</th>\n",
       "      <th>id</th>\n",
       "      <th>updated</th>\n",
       "      <th>place</th>\n",
       "      <th>type</th>\n",
       "    </tr>\n",
       "  </thead>\n",
       "  <tbody>\n",
       "    <tr>\n",
       "      <th>0</th>\n",
       "      <td>2014-01-31 23:53:37.000</td>\n",
       "      <td>60.252000</td>\n",
       "      <td>-152.7081</td>\n",
       "      <td>90.20</td>\n",
       "      <td>1.10</td>\n",
       "      <td>ml</td>\n",
       "      <td>NaN</td>\n",
       "      <td>NaN</td>\n",
       "      <td>NaN</td>\n",
       "      <td>0.2900</td>\n",
       "      <td>ak</td>\n",
       "      <td>ak11155107</td>\n",
       "      <td>2014-02-05T19:34:41.515Z</td>\n",
       "      <td>26km S of Redoubt Volcano, Alaska</td>\n",
       "      <td>earthquake</td>\n",
       "    </tr>\n",
       "    <tr>\n",
       "      <th>1</th>\n",
       "      <td>2014-01-31 23:48:35.452</td>\n",
       "      <td>37.070300</td>\n",
       "      <td>-115.1309</td>\n",
       "      <td>0.00</td>\n",
       "      <td>1.33</td>\n",
       "      <td>ml</td>\n",
       "      <td>4.0</td>\n",
       "      <td>171.43</td>\n",
       "      <td>0.34200</td>\n",
       "      <td>0.0247</td>\n",
       "      <td>nn</td>\n",
       "      <td>nn00436847</td>\n",
       "      <td>2014-02-01T01:35:09.000Z</td>\n",
       "      <td>32km S of Alamo, Nevada</td>\n",
       "      <td>earthquake</td>\n",
       "    </tr>\n",
       "    <tr>\n",
       "      <th>2</th>\n",
       "      <td>2014-01-31 23:47:24.000</td>\n",
       "      <td>64.671700</td>\n",
       "      <td>-149.2528</td>\n",
       "      <td>7.10</td>\n",
       "      <td>1.30</td>\n",
       "      <td>ml</td>\n",
       "      <td>NaN</td>\n",
       "      <td>NaN</td>\n",
       "      <td>NaN</td>\n",
       "      <td>1.0000</td>\n",
       "      <td>ak</td>\n",
       "      <td>ak11151142</td>\n",
       "      <td>2014-02-01T00:03:53.010Z</td>\n",
       "      <td>12km NNW of North Nenana, Alaska</td>\n",
       "      <td>earthquake</td>\n",
       "    </tr>\n",
       "    <tr>\n",
       "      <th>3</th>\n",
       "      <td>2014-01-31 23:30:54.000</td>\n",
       "      <td>63.188700</td>\n",
       "      <td>-148.9575</td>\n",
       "      <td>96.50</td>\n",
       "      <td>0.80</td>\n",
       "      <td>ml</td>\n",
       "      <td>NaN</td>\n",
       "      <td>NaN</td>\n",
       "      <td>NaN</td>\n",
       "      <td>1.0700</td>\n",
       "      <td>ak</td>\n",
       "      <td>ak11151135</td>\n",
       "      <td>2014-01-31T23:41:25.007Z</td>\n",
       "      <td>22km S of Cantwell, Alaska</td>\n",
       "      <td>earthquake</td>\n",
       "    </tr>\n",
       "    <tr>\n",
       "      <th>4</th>\n",
       "      <td>2014-01-31 23:30:52.210</td>\n",
       "      <td>32.616833</td>\n",
       "      <td>-115.6925</td>\n",
       "      <td>10.59</td>\n",
       "      <td>1.34</td>\n",
       "      <td>ml</td>\n",
       "      <td>6.0</td>\n",
       "      <td>285.00</td>\n",
       "      <td>0.04321</td>\n",
       "      <td>0.2000</td>\n",
       "      <td>ci</td>\n",
       "      <td>ci37171541</td>\n",
       "      <td>2014-02-01T00:13:20.107Z</td>\n",
       "      <td>10km WNW of Progreso, Mexico</td>\n",
       "      <td>earthquake</td>\n",
       "    </tr>\n",
       "  </tbody>\n",
       "</table>\n",
       "</div>"
      ],
      "text/plain": [
       "                     time   latitude  longitude  depth   mag magType  nst  \\\n",
       "0 2014-01-31 23:53:37.000  60.252000  -152.7081  90.20  1.10      ml  NaN   \n",
       "1 2014-01-31 23:48:35.452  37.070300  -115.1309   0.00  1.33      ml  4.0   \n",
       "2 2014-01-31 23:47:24.000  64.671700  -149.2528   7.10  1.30      ml  NaN   \n",
       "3 2014-01-31 23:30:54.000  63.188700  -148.9575  96.50  0.80      ml  NaN   \n",
       "4 2014-01-31 23:30:52.210  32.616833  -115.6925  10.59  1.34      ml  6.0   \n",
       "\n",
       "      gap     dmin     rms net          id                   updated  \\\n",
       "0     NaN      NaN  0.2900  ak  ak11155107  2014-02-05T19:34:41.515Z   \n",
       "1  171.43  0.34200  0.0247  nn  nn00436847  2014-02-01T01:35:09.000Z   \n",
       "2     NaN      NaN  1.0000  ak  ak11151142  2014-02-01T00:03:53.010Z   \n",
       "3     NaN      NaN  1.0700  ak  ak11151135  2014-01-31T23:41:25.007Z   \n",
       "4  285.00  0.04321  0.2000  ci  ci37171541  2014-02-01T00:13:20.107Z   \n",
       "\n",
       "                               place        type  \n",
       "0  26km S of Redoubt Volcano, Alaska  earthquake  \n",
       "1            32km S of Alamo, Nevada  earthquake  \n",
       "2   12km NNW of North Nenana, Alaska  earthquake  \n",
       "3         22km S of Cantwell, Alaska  earthquake  \n",
       "4       10km WNW of Progreso, Mexico  earthquake  "
      ]
     },
     "execution_count": 10,
     "metadata": {},
     "output_type": "execute_result"
    }
   ],
   "source": [
    "earthquakes.head()"
   ]
  },
  {
   "cell_type": "markdown",
   "id": "18bb7886",
   "metadata": {},
   "source": [
    "the time colum is parsed as datetime object."
   ]
  },
  {
   "cell_type": "code",
   "execution_count": 11,
   "id": "a3fcd7d5",
   "metadata": {},
   "outputs": [
    {
     "data": {
      "text/html": [
       "<div>\n",
       "<style scoped>\n",
       "    .dataframe tbody tr th:only-of-type {\n",
       "        vertical-align: middle;\n",
       "    }\n",
       "\n",
       "    .dataframe tbody tr th {\n",
       "        vertical-align: top;\n",
       "    }\n",
       "\n",
       "    .dataframe thead th {\n",
       "        text-align: right;\n",
       "    }\n",
       "</style>\n",
       "<table border=\"1\" class=\"dataframe\">\n",
       "  <thead>\n",
       "    <tr style=\"text-align: right;\">\n",
       "      <th></th>\n",
       "      <th>count</th>\n",
       "      <th>mean</th>\n",
       "      <th>std</th>\n",
       "      <th>min</th>\n",
       "      <th>25%</th>\n",
       "      <th>50%</th>\n",
       "      <th>75%</th>\n",
       "      <th>max</th>\n",
       "    </tr>\n",
       "  </thead>\n",
       "  <tbody>\n",
       "    <tr>\n",
       "      <th>latitude</th>\n",
       "      <td>52122.0</td>\n",
       "      <td>37.788731</td>\n",
       "      <td>8.232399</td>\n",
       "      <td>5.0063</td>\n",
       "      <td>34.273333</td>\n",
       "      <td>37.636500</td>\n",
       "      <td>38.835700</td>\n",
       "      <td>71.296200</td>\n",
       "    </tr>\n",
       "    <tr>\n",
       "      <th>longitude</th>\n",
       "      <td>52122.0</td>\n",
       "      <td>-116.617951</td>\n",
       "      <td>21.061316</td>\n",
       "      <td>-179.9815</td>\n",
       "      <td>-122.311667</td>\n",
       "      <td>-118.853333</td>\n",
       "      <td>-116.752667</td>\n",
       "      <td>179.512500</td>\n",
       "    </tr>\n",
       "    <tr>\n",
       "      <th>depth</th>\n",
       "      <td>52122.0</td>\n",
       "      <td>11.049205</td>\n",
       "      <td>17.775801</td>\n",
       "      <td>-5.3000</td>\n",
       "      <td>3.060000</td>\n",
       "      <td>6.588100</td>\n",
       "      <td>10.840000</td>\n",
       "      <td>224.200000</td>\n",
       "    </tr>\n",
       "    <tr>\n",
       "      <th>mag</th>\n",
       "      <td>52122.0</td>\n",
       "      <td>1.202029</td>\n",
       "      <td>0.753715</td>\n",
       "      <td>-0.9700</td>\n",
       "      <td>0.620000</td>\n",
       "      <td>1.070000</td>\n",
       "      <td>1.620000</td>\n",
       "      <td>6.020000</td>\n",
       "    </tr>\n",
       "    <tr>\n",
       "      <th>nst</th>\n",
       "      <td>52122.0</td>\n",
       "      <td>18.334580</td>\n",
       "      <td>15.242170</td>\n",
       "      <td>0.0000</td>\n",
       "      <td>9.000000</td>\n",
       "      <td>14.000000</td>\n",
       "      <td>23.000000</td>\n",
       "      <td>365.000000</td>\n",
       "    </tr>\n",
       "    <tr>\n",
       "      <th>gap</th>\n",
       "      <td>52122.0</td>\n",
       "      <td>126.636242</td>\n",
       "      <td>73.816736</td>\n",
       "      <td>13.0000</td>\n",
       "      <td>73.000000</td>\n",
       "      <td>104.400000</td>\n",
       "      <td>158.399987</td>\n",
       "      <td>356.400000</td>\n",
       "    </tr>\n",
       "    <tr>\n",
       "      <th>dmin</th>\n",
       "      <td>52122.0</td>\n",
       "      <td>0.134049</td>\n",
       "      <td>0.204335</td>\n",
       "      <td>0.0000</td>\n",
       "      <td>0.019390</td>\n",
       "      <td>0.054505</td>\n",
       "      <td>0.141500</td>\n",
       "      <td>3.036306</td>\n",
       "    </tr>\n",
       "    <tr>\n",
       "      <th>rms</th>\n",
       "      <td>52122.0</td>\n",
       "      <td>0.132137</td>\n",
       "      <td>0.155275</td>\n",
       "      <td>0.0000</td>\n",
       "      <td>0.040000</td>\n",
       "      <td>0.090000</td>\n",
       "      <td>0.160000</td>\n",
       "      <td>7.570000</td>\n",
       "    </tr>\n",
       "  </tbody>\n",
       "</table>\n",
       "</div>"
      ],
      "text/plain": [
       "             count        mean        std       min         25%         50%  \\\n",
       "latitude   52122.0   37.788731   8.232399    5.0063   34.273333   37.636500   \n",
       "longitude  52122.0 -116.617951  21.061316 -179.9815 -122.311667 -118.853333   \n",
       "depth      52122.0   11.049205  17.775801   -5.3000    3.060000    6.588100   \n",
       "mag        52122.0    1.202029   0.753715   -0.9700    0.620000    1.070000   \n",
       "nst        52122.0   18.334580  15.242170    0.0000    9.000000   14.000000   \n",
       "gap        52122.0  126.636242  73.816736   13.0000   73.000000  104.400000   \n",
       "dmin       52122.0    0.134049   0.204335    0.0000    0.019390    0.054505   \n",
       "rms        52122.0    0.132137   0.155275    0.0000    0.040000    0.090000   \n",
       "\n",
       "                  75%         max  \n",
       "latitude    38.835700   71.296200  \n",
       "longitude -116.752667  179.512500  \n",
       "depth       10.840000  224.200000  \n",
       "mag          1.620000    6.020000  \n",
       "nst         23.000000  365.000000  \n",
       "gap        158.399987  356.400000  \n",
       "dmin         0.141500    3.036306  \n",
       "rms          0.160000    7.570000  "
      ]
     },
     "execution_count": 11,
     "metadata": {},
     "output_type": "execute_result"
    }
   ],
   "source": [
    "earthquakes.dropna().describe().T"
   ]
  },
  {
   "cell_type": "markdown",
   "id": "614a56f9",
   "metadata": {},
   "source": [
    "top 20 earthquakes by magnitude"
   ]
  },
  {
   "cell_type": "code",
   "execution_count": 12,
   "id": "cdbb8d47",
   "metadata": {},
   "outputs": [
    {
     "data": {
      "text/html": [
       "<div>\n",
       "<style scoped>\n",
       "    .dataframe tbody tr th:only-of-type {\n",
       "        vertical-align: middle;\n",
       "    }\n",
       "\n",
       "    .dataframe tbody tr th {\n",
       "        vertical-align: top;\n",
       "    }\n",
       "\n",
       "    .dataframe thead th {\n",
       "        text-align: right;\n",
       "    }\n",
       "</style>\n",
       "<table border=\"1\" class=\"dataframe\">\n",
       "  <thead>\n",
       "    <tr style=\"text-align: right;\">\n",
       "      <th></th>\n",
       "      <th>time</th>\n",
       "      <th>latitude</th>\n",
       "      <th>longitude</th>\n",
       "      <th>depth</th>\n",
       "      <th>mag</th>\n",
       "      <th>magType</th>\n",
       "      <th>nst</th>\n",
       "      <th>gap</th>\n",
       "      <th>dmin</th>\n",
       "      <th>rms</th>\n",
       "      <th>net</th>\n",
       "      <th>id</th>\n",
       "      <th>updated</th>\n",
       "      <th>place</th>\n",
       "      <th>type</th>\n",
       "    </tr>\n",
       "  </thead>\n",
       "  <tbody>\n",
       "    <tr>\n",
       "      <th>37371</th>\n",
       "      <td>2014-04-01 23:46:47.260</td>\n",
       "      <td>-19.6097</td>\n",
       "      <td>-70.7691</td>\n",
       "      <td>25.00</td>\n",
       "      <td>8.2</td>\n",
       "      <td>mww</td>\n",
       "      <td>NaN</td>\n",
       "      <td>23.0</td>\n",
       "      <td>0.609</td>\n",
       "      <td>0.66</td>\n",
       "      <td>us</td>\n",
       "      <td>usc000nzvd</td>\n",
       "      <td>2015-07-30T16:24:51.223Z</td>\n",
       "      <td>94km NW of Iquique, Chile</td>\n",
       "      <td>earthquake</td>\n",
       "    </tr>\n",
       "    <tr>\n",
       "      <th>50562</th>\n",
       "      <td>2014-06-23 20:53:09.700</td>\n",
       "      <td>51.8486</td>\n",
       "      <td>178.7352</td>\n",
       "      <td>109.00</td>\n",
       "      <td>7.9</td>\n",
       "      <td>mww</td>\n",
       "      <td>NaN</td>\n",
       "      <td>22.0</td>\n",
       "      <td>0.133</td>\n",
       "      <td>0.71</td>\n",
       "      <td>us</td>\n",
       "      <td>usc000rki5</td>\n",
       "      <td>2015-04-18T21:54:08.699Z</td>\n",
       "      <td>19km SE of Little Sitkin Island, Alaska</td>\n",
       "      <td>earthquake</td>\n",
       "    </tr>\n",
       "    <tr>\n",
       "      <th>36918</th>\n",
       "      <td>2014-04-03 02:43:13.110</td>\n",
       "      <td>-20.5709</td>\n",
       "      <td>-70.4931</td>\n",
       "      <td>22.40</td>\n",
       "      <td>7.7</td>\n",
       "      <td>mww</td>\n",
       "      <td>NaN</td>\n",
       "      <td>44.0</td>\n",
       "      <td>1.029</td>\n",
       "      <td>0.82</td>\n",
       "      <td>us</td>\n",
       "      <td>usc000p27i</td>\n",
       "      <td>2015-06-06T07:31:05.755Z</td>\n",
       "      <td>53km SW of Iquique, Chile</td>\n",
       "      <td>earthquake</td>\n",
       "    </tr>\n",
       "    <tr>\n",
       "      <th>33808</th>\n",
       "      <td>2014-04-12 20:14:39.300</td>\n",
       "      <td>-11.2701</td>\n",
       "      <td>162.1481</td>\n",
       "      <td>22.56</td>\n",
       "      <td>7.6</td>\n",
       "      <td>mww</td>\n",
       "      <td>NaN</td>\n",
       "      <td>13.0</td>\n",
       "      <td>2.828</td>\n",
       "      <td>0.71</td>\n",
       "      <td>us</td>\n",
       "      <td>usc000phx5</td>\n",
       "      <td>2015-04-18T21:54:27.398Z</td>\n",
       "      <td>93km SSE of Kirakira, Solomon Islands</td>\n",
       "      <td>earthquake</td>\n",
       "    </tr>\n",
       "    <tr>\n",
       "      <th>31496</th>\n",
       "      <td>2014-04-19 13:28:00.810</td>\n",
       "      <td>-6.7547</td>\n",
       "      <td>155.0241</td>\n",
       "      <td>43.37</td>\n",
       "      <td>7.5</td>\n",
       "      <td>mww</td>\n",
       "      <td>NaN</td>\n",
       "      <td>16.0</td>\n",
       "      <td>3.820</td>\n",
       "      <td>1.25</td>\n",
       "      <td>us</td>\n",
       "      <td>usb000pr89</td>\n",
       "      <td>2015-04-18T21:54:18.633Z</td>\n",
       "      <td>70km SW of Panguna, Papua New Guinea</td>\n",
       "      <td>earthquake</td>\n",
       "    </tr>\n",
       "  </tbody>\n",
       "</table>\n",
       "</div>"
      ],
      "text/plain": [
       "                         time  latitude  longitude   depth  mag magType  nst  \\\n",
       "37371 2014-04-01 23:46:47.260  -19.6097   -70.7691   25.00  8.2     mww  NaN   \n",
       "50562 2014-06-23 20:53:09.700   51.8486   178.7352  109.00  7.9     mww  NaN   \n",
       "36918 2014-04-03 02:43:13.110  -20.5709   -70.4931   22.40  7.7     mww  NaN   \n",
       "33808 2014-04-12 20:14:39.300  -11.2701   162.1481   22.56  7.6     mww  NaN   \n",
       "31496 2014-04-19 13:28:00.810   -6.7547   155.0241   43.37  7.5     mww  NaN   \n",
       "\n",
       "        gap   dmin   rms net          id                   updated  \\\n",
       "37371  23.0  0.609  0.66  us  usc000nzvd  2015-07-30T16:24:51.223Z   \n",
       "50562  22.0  0.133  0.71  us  usc000rki5  2015-04-18T21:54:08.699Z   \n",
       "36918  44.0  1.029  0.82  us  usc000p27i  2015-06-06T07:31:05.755Z   \n",
       "33808  13.0  2.828  0.71  us  usc000phx5  2015-04-18T21:54:27.398Z   \n",
       "31496  16.0  3.820  1.25  us  usb000pr89  2015-04-18T21:54:18.633Z   \n",
       "\n",
       "                                         place        type  \n",
       "37371                94km NW of Iquique, Chile  earthquake  \n",
       "50562  19km SE of Little Sitkin Island, Alaska  earthquake  \n",
       "36918                53km SW of Iquique, Chile  earthquake  \n",
       "33808    93km SSE of Kirakira, Solomon Islands  earthquake  \n",
       "31496     70km SW of Panguna, Papua New Guinea  earthquake  "
      ]
     },
     "execution_count": 12,
     "metadata": {},
     "output_type": "execute_result"
    }
   ],
   "source": [
    "top20 = earthquakes.nlargest(20, 'mag')\n",
    "top20.head()"
   ]
  },
  {
   "cell_type": "code",
   "execution_count": 13,
   "id": "13c15ffa",
   "metadata": {},
   "outputs": [
    {
     "data": {
      "text/plain": [
       "37371                   94km NW of Iquique, Chile\n",
       "50562     19km SE of Little Sitkin Island, Alaska\n",
       "36918                   53km SW of Iquique, Chile\n",
       "33808       93km SSE of Kirakira, Solomon Islands\n",
       "31496        70km SW of Panguna, Papua New Guinea\n",
       "33537        112km S of Kirakira, Solomon Islands\n",
       "95913             74km S of Intipuca, El Salvador\n",
       "31850                33km ESE of Petatlan, Mexico\n",
       "34318       56km WSW of Panguna, Papua New Guinea\n",
       "106285        154km NW of Kota Ternate, Indonesia\n",
       "111052              144km NE of Ndoi Island, Fiji\n",
       "97602                  Southern East Pacific Rise\n",
       "14025                   272km ESE of Hotan, China\n",
       "37367                  91km WNW of Iquique, Chile\n",
       "39915            22km SSW of Kamariotissa, Greece\n",
       "47934               154km NNW of Visokoi Island, \n",
       "50609       80km SSE of Raoul Island, New Zealand\n",
       "61294               99km NNE of Ndoi Island, Fiji\n",
       "66278              4km W of Puerto Madero, Mexico\n",
       "78063       Federated States of Micronesia region\n",
       "Name: place, dtype: object"
      ]
     },
     "execution_count": 13,
     "metadata": {},
     "output_type": "execute_result"
    }
   ],
   "source": [
    "top20['place']"
   ]
  },
  {
   "cell_type": "markdown",
   "id": "2c0b9c6c",
   "metadata": {},
   "source": [
    "these are the 20 places that were affected by highest magnitude of earthquake. hightest at the top and lowest of the 20 at the bottom. "
   ]
  },
  {
   "cell_type": "markdown",
   "id": "ac6396cf",
   "metadata": {},
   "source": [
    "Now, extract the name of the state/country and pass it as a new column."
   ]
  },
  {
   "cell_type": "code",
   "execution_count": 14,
   "id": "294ffcf7",
   "metadata": {},
   "outputs": [],
   "source": [
    "places = earthquakes['place']"
   ]
  },
  {
   "cell_type": "code",
   "execution_count": 15,
   "id": "fbc38476",
   "metadata": {},
   "outputs": [
    {
     "data": {
      "text/plain": [
       "pandas.core.series.Series"
      ]
     },
     "execution_count": 15,
     "metadata": {},
     "output_type": "execute_result"
    }
   ],
   "source": [
    "type(places)"
   ]
  },
  {
   "cell_type": "code",
   "execution_count": 16,
   "id": "fcee6b21",
   "metadata": {},
   "outputs": [],
   "source": [
    "places_split = places.str.split(',', expand=True)"
   ]
  },
  {
   "cell_type": "code",
   "execution_count": 17,
   "id": "7e363fb2",
   "metadata": {},
   "outputs": [
    {
     "data": {
      "text/plain": [
       "pandas.core.frame.DataFrame"
      ]
     },
     "execution_count": 17,
     "metadata": {},
     "output_type": "execute_result"
    }
   ],
   "source": [
    "type(places_split)"
   ]
  },
  {
   "cell_type": "code",
   "execution_count": 18,
   "id": "04906de7",
   "metadata": {},
   "outputs": [
    {
     "data": {
      "text/html": [
       "<div>\n",
       "<style scoped>\n",
       "    .dataframe tbody tr th:only-of-type {\n",
       "        vertical-align: middle;\n",
       "    }\n",
       "\n",
       "    .dataframe tbody tr th {\n",
       "        vertical-align: top;\n",
       "    }\n",
       "\n",
       "    .dataframe thead th {\n",
       "        text-align: right;\n",
       "    }\n",
       "</style>\n",
       "<table border=\"1\" class=\"dataframe\">\n",
       "  <thead>\n",
       "    <tr style=\"text-align: right;\">\n",
       "      <th></th>\n",
       "      <th>0</th>\n",
       "      <th>1</th>\n",
       "      <th>2</th>\n",
       "      <th>3</th>\n",
       "      <th>4</th>\n",
       "    </tr>\n",
       "  </thead>\n",
       "  <tbody>\n",
       "    <tr>\n",
       "      <th>0</th>\n",
       "      <td>26km S of Redoubt Volcano</td>\n",
       "      <td>Alaska</td>\n",
       "      <td>None</td>\n",
       "      <td>None</td>\n",
       "      <td>None</td>\n",
       "    </tr>\n",
       "    <tr>\n",
       "      <th>1</th>\n",
       "      <td>32km S of Alamo</td>\n",
       "      <td>Nevada</td>\n",
       "      <td>None</td>\n",
       "      <td>None</td>\n",
       "      <td>None</td>\n",
       "    </tr>\n",
       "    <tr>\n",
       "      <th>2</th>\n",
       "      <td>12km NNW of North Nenana</td>\n",
       "      <td>Alaska</td>\n",
       "      <td>None</td>\n",
       "      <td>None</td>\n",
       "      <td>None</td>\n",
       "    </tr>\n",
       "    <tr>\n",
       "      <th>3</th>\n",
       "      <td>22km S of Cantwell</td>\n",
       "      <td>Alaska</td>\n",
       "      <td>None</td>\n",
       "      <td>None</td>\n",
       "      <td>None</td>\n",
       "    </tr>\n",
       "    <tr>\n",
       "      <th>4</th>\n",
       "      <td>10km WNW of Progreso</td>\n",
       "      <td>Mexico</td>\n",
       "      <td>None</td>\n",
       "      <td>None</td>\n",
       "      <td>None</td>\n",
       "    </tr>\n",
       "  </tbody>\n",
       "</table>\n",
       "</div>"
      ],
      "text/plain": [
       "                           0        1     2     3     4\n",
       "0  26km S of Redoubt Volcano   Alaska  None  None  None\n",
       "1            32km S of Alamo   Nevada  None  None  None\n",
       "2   12km NNW of North Nenana   Alaska  None  None  None\n",
       "3         22km S of Cantwell   Alaska  None  None  None\n",
       "4       10km WNW of Progreso   Mexico  None  None  None"
      ]
     },
     "execution_count": 18,
     "metadata": {},
     "output_type": "execute_result"
    }
   ],
   "source": [
    "places_split.head()"
   ]
  },
  {
   "cell_type": "code",
   "execution_count": 19,
   "id": "85af64ad",
   "metadata": {},
   "outputs": [],
   "source": [
    "country = places_split[1]"
   ]
  },
  {
   "cell_type": "code",
   "execution_count": 20,
   "id": "2565bb70",
   "metadata": {},
   "outputs": [
    {
     "data": {
      "text/plain": [
       "3501"
      ]
     },
     "execution_count": 20,
     "metadata": {},
     "output_type": "execute_result"
    }
   ],
   "source": [
    "country.isna().sum()"
   ]
  },
  {
   "cell_type": "code",
   "execution_count": 21,
   "id": "d8aab702",
   "metadata": {},
   "outputs": [
    {
     "data": {
      "text/plain": [
       "116607"
      ]
     },
     "execution_count": 21,
     "metadata": {},
     "output_type": "execute_result"
    }
   ],
   "source": [
    "country.count()"
   ]
  },
  {
   "cell_type": "code",
   "execution_count": 22,
   "id": "24e25b02",
   "metadata": {},
   "outputs": [
    {
     "data": {
      "text/plain": [
       "0              Alaska\n",
       "1              Nevada\n",
       "2              Alaska\n",
       "3              Alaska\n",
       "4              Mexico\n",
       "             ...     \n",
       "120103         Alaska\n",
       "120104         Alaska\n",
       "120105     California\n",
       "120106         Alaska\n",
       "120107         Alaska\n",
       "Name: 1, Length: 120108, dtype: object"
      ]
     },
     "execution_count": 22,
     "metadata": {},
     "output_type": "execute_result"
    }
   ],
   "source": [
    "country.fillna('ffill')"
   ]
  },
  {
   "cell_type": "code",
   "execution_count": 23,
   "id": "d6ff731b",
   "metadata": {},
   "outputs": [],
   "source": [
    "earthquakes['country'] = country"
   ]
  },
  {
   "cell_type": "code",
   "execution_count": 24,
   "id": "4093ae8e",
   "metadata": {},
   "outputs": [
    {
     "data": {
      "text/html": [
       "<div>\n",
       "<style scoped>\n",
       "    .dataframe tbody tr th:only-of-type {\n",
       "        vertical-align: middle;\n",
       "    }\n",
       "\n",
       "    .dataframe tbody tr th {\n",
       "        vertical-align: top;\n",
       "    }\n",
       "\n",
       "    .dataframe thead th {\n",
       "        text-align: right;\n",
       "    }\n",
       "</style>\n",
       "<table border=\"1\" class=\"dataframe\">\n",
       "  <thead>\n",
       "    <tr style=\"text-align: right;\">\n",
       "      <th></th>\n",
       "      <th>time</th>\n",
       "      <th>latitude</th>\n",
       "      <th>longitude</th>\n",
       "      <th>depth</th>\n",
       "      <th>mag</th>\n",
       "      <th>magType</th>\n",
       "      <th>nst</th>\n",
       "      <th>gap</th>\n",
       "      <th>dmin</th>\n",
       "      <th>rms</th>\n",
       "      <th>net</th>\n",
       "      <th>id</th>\n",
       "      <th>updated</th>\n",
       "      <th>place</th>\n",
       "      <th>type</th>\n",
       "      <th>country</th>\n",
       "    </tr>\n",
       "  </thead>\n",
       "  <tbody>\n",
       "    <tr>\n",
       "      <th>0</th>\n",
       "      <td>2014-01-31 23:53:37.000</td>\n",
       "      <td>60.252000</td>\n",
       "      <td>-152.7081</td>\n",
       "      <td>90.20</td>\n",
       "      <td>1.10</td>\n",
       "      <td>ml</td>\n",
       "      <td>NaN</td>\n",
       "      <td>NaN</td>\n",
       "      <td>NaN</td>\n",
       "      <td>0.2900</td>\n",
       "      <td>ak</td>\n",
       "      <td>ak11155107</td>\n",
       "      <td>2014-02-05T19:34:41.515Z</td>\n",
       "      <td>26km S of Redoubt Volcano, Alaska</td>\n",
       "      <td>earthquake</td>\n",
       "      <td>Alaska</td>\n",
       "    </tr>\n",
       "    <tr>\n",
       "      <th>1</th>\n",
       "      <td>2014-01-31 23:48:35.452</td>\n",
       "      <td>37.070300</td>\n",
       "      <td>-115.1309</td>\n",
       "      <td>0.00</td>\n",
       "      <td>1.33</td>\n",
       "      <td>ml</td>\n",
       "      <td>4.0</td>\n",
       "      <td>171.43</td>\n",
       "      <td>0.34200</td>\n",
       "      <td>0.0247</td>\n",
       "      <td>nn</td>\n",
       "      <td>nn00436847</td>\n",
       "      <td>2014-02-01T01:35:09.000Z</td>\n",
       "      <td>32km S of Alamo, Nevada</td>\n",
       "      <td>earthquake</td>\n",
       "      <td>Nevada</td>\n",
       "    </tr>\n",
       "    <tr>\n",
       "      <th>2</th>\n",
       "      <td>2014-01-31 23:47:24.000</td>\n",
       "      <td>64.671700</td>\n",
       "      <td>-149.2528</td>\n",
       "      <td>7.10</td>\n",
       "      <td>1.30</td>\n",
       "      <td>ml</td>\n",
       "      <td>NaN</td>\n",
       "      <td>NaN</td>\n",
       "      <td>NaN</td>\n",
       "      <td>1.0000</td>\n",
       "      <td>ak</td>\n",
       "      <td>ak11151142</td>\n",
       "      <td>2014-02-01T00:03:53.010Z</td>\n",
       "      <td>12km NNW of North Nenana, Alaska</td>\n",
       "      <td>earthquake</td>\n",
       "      <td>Alaska</td>\n",
       "    </tr>\n",
       "    <tr>\n",
       "      <th>3</th>\n",
       "      <td>2014-01-31 23:30:54.000</td>\n",
       "      <td>63.188700</td>\n",
       "      <td>-148.9575</td>\n",
       "      <td>96.50</td>\n",
       "      <td>0.80</td>\n",
       "      <td>ml</td>\n",
       "      <td>NaN</td>\n",
       "      <td>NaN</td>\n",
       "      <td>NaN</td>\n",
       "      <td>1.0700</td>\n",
       "      <td>ak</td>\n",
       "      <td>ak11151135</td>\n",
       "      <td>2014-01-31T23:41:25.007Z</td>\n",
       "      <td>22km S of Cantwell, Alaska</td>\n",
       "      <td>earthquake</td>\n",
       "      <td>Alaska</td>\n",
       "    </tr>\n",
       "    <tr>\n",
       "      <th>4</th>\n",
       "      <td>2014-01-31 23:30:52.210</td>\n",
       "      <td>32.616833</td>\n",
       "      <td>-115.6925</td>\n",
       "      <td>10.59</td>\n",
       "      <td>1.34</td>\n",
       "      <td>ml</td>\n",
       "      <td>6.0</td>\n",
       "      <td>285.00</td>\n",
       "      <td>0.04321</td>\n",
       "      <td>0.2000</td>\n",
       "      <td>ci</td>\n",
       "      <td>ci37171541</td>\n",
       "      <td>2014-02-01T00:13:20.107Z</td>\n",
       "      <td>10km WNW of Progreso, Mexico</td>\n",
       "      <td>earthquake</td>\n",
       "      <td>Mexico</td>\n",
       "    </tr>\n",
       "  </tbody>\n",
       "</table>\n",
       "</div>"
      ],
      "text/plain": [
       "                     time   latitude  longitude  depth   mag magType  nst  \\\n",
       "0 2014-01-31 23:53:37.000  60.252000  -152.7081  90.20  1.10      ml  NaN   \n",
       "1 2014-01-31 23:48:35.452  37.070300  -115.1309   0.00  1.33      ml  4.0   \n",
       "2 2014-01-31 23:47:24.000  64.671700  -149.2528   7.10  1.30      ml  NaN   \n",
       "3 2014-01-31 23:30:54.000  63.188700  -148.9575  96.50  0.80      ml  NaN   \n",
       "4 2014-01-31 23:30:52.210  32.616833  -115.6925  10.59  1.34      ml  6.0   \n",
       "\n",
       "      gap     dmin     rms net          id                   updated  \\\n",
       "0     NaN      NaN  0.2900  ak  ak11155107  2014-02-05T19:34:41.515Z   \n",
       "1  171.43  0.34200  0.0247  nn  nn00436847  2014-02-01T01:35:09.000Z   \n",
       "2     NaN      NaN  1.0000  ak  ak11151142  2014-02-01T00:03:53.010Z   \n",
       "3     NaN      NaN  1.0700  ak  ak11151135  2014-01-31T23:41:25.007Z   \n",
       "4  285.00  0.04321  0.2000  ci  ci37171541  2014-02-01T00:13:20.107Z   \n",
       "\n",
       "                               place        type  country  \n",
       "0  26km S of Redoubt Volcano, Alaska  earthquake   Alaska  \n",
       "1            32km S of Alamo, Nevada  earthquake   Nevada  \n",
       "2   12km NNW of North Nenana, Alaska  earthquake   Alaska  \n",
       "3         22km S of Cantwell, Alaska  earthquake   Alaska  \n",
       "4       10km WNW of Progreso, Mexico  earthquake   Mexico  "
      ]
     },
     "execution_count": 24,
     "metadata": {},
     "output_type": "execute_result"
    }
   ],
   "source": [
    "earthquakes.head()"
   ]
  },
  {
   "cell_type": "code",
   "execution_count": 25,
   "id": "7b738533",
   "metadata": {},
   "outputs": [
    {
     "data": {
      "text/plain": [
       "array([' Alaska', ' Nevada', ' Mexico', ' California',\n",
       "       ' Papua New Guinea', ' New Zealand', ' Missouri', None, ' Montana',\n",
       "       ' British Virgin Islands', ' Washington', ' Oregon', ' Canada',\n",
       "       ' Fiji', ' Antarctica', ' Chile', ' Utah', ' Indonesia',\n",
       "       ' Solomon Islands', ' Micronesia', ' Oklahoma', ' Hawaii',\n",
       "       ' Wyoming', ' Russia', ' Arizona', ' Philippines', ' Bolivia',\n",
       "       ' Greece', ' Japan', ' Puerto Rico', ' Iran', ' Tonga',\n",
       "       ' Wallis and Futuna', ' Colorado', ' Guam', ' CA', ' Idaho',\n",
       "       ' Pakistan', ' Burma', ' China', ' Peru', ' Costa Rica',\n",
       "       ' East Timor', ' Japan region', ' Northern Mariana Islands',\n",
       "       ' El Salvador', ' Samoa', ' Taiwan', ' Arkansas',\n",
       "       ' South Sandwich Islands', ' Colombia', ' Dominican Republic',\n",
       "       ' Argentina', ' Texas', ' New Hampshire', ' Saint Helena',\n",
       "       ' Tanzania', ' Vanuatu', ' Bosnia and Herzegovina', ' India',\n",
       "       ' American Samoa', ' Tennessee', ' Kentucky', ' Serbia',\n",
       "       ' Nicaragua', ' Republic of the Congo', ' U.S. Virgin Islands',\n",
       "       ' ', ' Guatemala', ' Kyrgyzstan', ' Afghanistan', ' New Caledonia',\n",
       "       ' Saudi Arabia', ' Nunoa', ' Romania', ' Italy', ' Panama',\n",
       "       ' Albania', ' Haiti', ' Ohio', ' Ecuador', ' Tajikistan',\n",
       "       ' Venezuela', ' Hungary', ' Christmas Island', ' Bouvet Island',\n",
       "       ' Maine', ' Eritrea', ' Turkmenistan', ' Turkey',\n",
       "       ' British Indian Ocean Territory', ' Australia', ' Cuba',\n",
       "       ' Guadeloupe', ' Azerbaijan', ' South Carolina', ' Massachusetts',\n",
       "       ' Pennsylvania', ' Anguilla', ' Mauritania', ' New Mexico',\n",
       "       ' Nebraska', ' Comoros', ' Honduras', ' Prince Edward Islands',\n",
       "       ' Mongolia', ' Cape Verde', ' Yemen', ' Spain', ' New York',\n",
       "       ' Algeria', ' Mauritius', ' Aruba', ' Svalbard and Jan Mayen',\n",
       "       ' United Kingdom', ' Barbados', ' Kansas', ' Cook Islands',\n",
       "       ' Illinois', ' Bangladesh', ' South Sudan', ' North Carolina',\n",
       "       ' Greenland', ' Martinique', ' South Dakota', ' Cyprus',\n",
       "       ' Malaysia', ' North Korea', ' Cayman Islands', ' Portugal',\n",
       "       ' Ethiopia', ' Uzbekistan', ' India region',\n",
       "       ' French Southern Territories', ' Poland', ' Egypt', ' Morocco',\n",
       "       ' Slovenia', ' Rhode Island', ' Somalia', ' Zambia',\n",
       "       ' Saint Martin', ' Ukraine', ' France', ' Montenegro', ' Bermuda',\n",
       "       ' South Africa', ' Saint Kitts and Nevis', ' Sulawesi', ' Iraq',\n",
       "       ' Brazil', ' South Georgia and the South Sandwich Islands',\n",
       "       ' Czech Republic', ' New Jersey', ' Aleutian Islands', ' Oman',\n",
       "       ' Macedonia', ' Lebanon', ' Jordan', ' Virginia', ' Djibouti',\n",
       "       ' Leeward Islands', ' Germany', ' Iceland', ' Ecuador region',\n",
       "       ' Vietnam', ' Russia region', ' Thailand', ' Jamaica',\n",
       "       ' Kazakhstan', ' Norway', ' West Virginia', ' Bonaire', ' Jersey',\n",
       "       ' Georgia', ' Laikit II (Dimembe)', ' Trinidad and Tobago',\n",
       "       ' Burundi', ' Niue', ' Dominica', ' Nepal', ' Barbuda',\n",
       "       ' Connecticut', ' Vermont', ' Syria', ' Uganda', ' Sweden',\n",
       "       ' Alabama', ' Mozambique', ' Saint Vincent and the Grenadines',\n",
       "       ' Sudan', ' French Polynesia', ' Palau',\n",
       "       ' Democratic Republic of the Congo', ' Bhutan', ' Angola',\n",
       "       ' Nunavut', ' Portugal region', ' Malawi', ' Kosovo',\n",
       "       ' Saint Lucia', ' Sierra Leone'], dtype=object)"
      ]
     },
     "execution_count": 25,
     "metadata": {},
     "output_type": "execute_result"
    }
   ],
   "source": [
    "earthquakes['country'].unique()"
   ]
  },
  {
   "cell_type": "code",
   "execution_count": 26,
   "id": "0eb85fc7",
   "metadata": {},
   "outputs": [
    {
     "data": {
      "text/html": [
       "<div>\n",
       "<style scoped>\n",
       "    .dataframe tbody tr th:only-of-type {\n",
       "        vertical-align: middle;\n",
       "    }\n",
       "\n",
       "    .dataframe tbody tr th {\n",
       "        vertical-align: top;\n",
       "    }\n",
       "\n",
       "    .dataframe thead th {\n",
       "        text-align: right;\n",
       "    }\n",
       "</style>\n",
       "<table border=\"1\" class=\"dataframe\">\n",
       "  <thead>\n",
       "    <tr style=\"text-align: right;\">\n",
       "      <th></th>\n",
       "      <th>time</th>\n",
       "      <th>latitude</th>\n",
       "      <th>longitude</th>\n",
       "      <th>depth</th>\n",
       "      <th>mag</th>\n",
       "      <th>magType</th>\n",
       "      <th>nst</th>\n",
       "      <th>gap</th>\n",
       "      <th>dmin</th>\n",
       "      <th>rms</th>\n",
       "      <th>net</th>\n",
       "      <th>id</th>\n",
       "      <th>updated</th>\n",
       "      <th>place</th>\n",
       "      <th>type</th>\n",
       "      <th>country</th>\n",
       "    </tr>\n",
       "  </thead>\n",
       "  <tbody>\n",
       "    <tr>\n",
       "      <th>0</th>\n",
       "      <td>2014-01-31 23:53:37.000</td>\n",
       "      <td>60.2520</td>\n",
       "      <td>-152.7081</td>\n",
       "      <td>90.2</td>\n",
       "      <td>1.10</td>\n",
       "      <td>ml</td>\n",
       "      <td>NaN</td>\n",
       "      <td>NaN</td>\n",
       "      <td>NaN</td>\n",
       "      <td>0.2900</td>\n",
       "      <td>ak</td>\n",
       "      <td>ak11155107</td>\n",
       "      <td>2014-02-05T19:34:41.515Z</td>\n",
       "      <td>26km S of Redoubt Volcano, Alaska</td>\n",
       "      <td>earthquake</td>\n",
       "      <td>Alaska</td>\n",
       "    </tr>\n",
       "    <tr>\n",
       "      <th>1</th>\n",
       "      <td>2014-01-31 23:48:35.452</td>\n",
       "      <td>37.0703</td>\n",
       "      <td>-115.1309</td>\n",
       "      <td>0.0</td>\n",
       "      <td>1.33</td>\n",
       "      <td>ml</td>\n",
       "      <td>4.0</td>\n",
       "      <td>171.43</td>\n",
       "      <td>0.342</td>\n",
       "      <td>0.0247</td>\n",
       "      <td>nn</td>\n",
       "      <td>nn00436847</td>\n",
       "      <td>2014-02-01T01:35:09.000Z</td>\n",
       "      <td>32km S of Alamo, Nevada</td>\n",
       "      <td>earthquake</td>\n",
       "      <td>Nevada</td>\n",
       "    </tr>\n",
       "  </tbody>\n",
       "</table>\n",
       "</div>"
      ],
      "text/plain": [
       "                     time  latitude  longitude  depth   mag magType  nst  \\\n",
       "0 2014-01-31 23:53:37.000   60.2520  -152.7081   90.2  1.10      ml  NaN   \n",
       "1 2014-01-31 23:48:35.452   37.0703  -115.1309    0.0  1.33      ml  4.0   \n",
       "\n",
       "      gap   dmin     rms net          id                   updated  \\\n",
       "0     NaN    NaN  0.2900  ak  ak11155107  2014-02-05T19:34:41.515Z   \n",
       "1  171.43  0.342  0.0247  nn  nn00436847  2014-02-01T01:35:09.000Z   \n",
       "\n",
       "                               place        type  country  \n",
       "0  26km S of Redoubt Volcano, Alaska  earthquake   Alaska  \n",
       "1            32km S of Alamo, Nevada  earthquake   Nevada  "
      ]
     },
     "execution_count": 26,
     "metadata": {},
     "output_type": "execute_result"
    }
   ],
   "source": [
    "earthquakes.head(2)"
   ]
  },
  {
   "cell_type": "code",
   "execution_count": 27,
   "id": "141b80ac",
   "metadata": {},
   "outputs": [
    {
     "data": {
      "text/html": [
       "<div>\n",
       "<style scoped>\n",
       "    .dataframe tbody tr th:only-of-type {\n",
       "        vertical-align: middle;\n",
       "    }\n",
       "\n",
       "    .dataframe tbody tr th {\n",
       "        vertical-align: top;\n",
       "    }\n",
       "\n",
       "    .dataframe thead th {\n",
       "        text-align: right;\n",
       "    }\n",
       "</style>\n",
       "<table border=\"1\" class=\"dataframe\">\n",
       "  <thead>\n",
       "    <tr style=\"text-align: right;\">\n",
       "      <th></th>\n",
       "      <th>time</th>\n",
       "      <th>latitude</th>\n",
       "      <th>longitude</th>\n",
       "      <th>depth</th>\n",
       "      <th>mag</th>\n",
       "      <th>magType</th>\n",
       "      <th>nst</th>\n",
       "      <th>gap</th>\n",
       "      <th>dmin</th>\n",
       "      <th>rms</th>\n",
       "      <th>net</th>\n",
       "      <th>id</th>\n",
       "      <th>updated</th>\n",
       "      <th>place</th>\n",
       "      <th>type</th>\n",
       "      <th>country</th>\n",
       "    </tr>\n",
       "  </thead>\n",
       "  <tbody>\n",
       "    <tr>\n",
       "      <th>10</th>\n",
       "      <td>2014-01-31 23:08:03.660</td>\n",
       "      <td>-4.9758</td>\n",
       "      <td>153.9466</td>\n",
       "      <td>110.18</td>\n",
       "      <td>4.2</td>\n",
       "      <td>mb</td>\n",
       "      <td>NaN</td>\n",
       "      <td>98.0</td>\n",
       "      <td>1.940</td>\n",
       "      <td>0.61</td>\n",
       "      <td>us</td>\n",
       "      <td>usc000mqlp</td>\n",
       "      <td>2014-04-08T01:43:19.000Z</td>\n",
       "      <td>115km ESE of Taron, Papua New Guinea</td>\n",
       "      <td>earthquake</td>\n",
       "      <td>Papua New Guinea</td>\n",
       "    </tr>\n",
       "    <tr>\n",
       "      <th>14</th>\n",
       "      <td>2014-01-31 22:54:32.970</td>\n",
       "      <td>-28.1775</td>\n",
       "      <td>-177.9058</td>\n",
       "      <td>95.84</td>\n",
       "      <td>4.3</td>\n",
       "      <td>mb</td>\n",
       "      <td>NaN</td>\n",
       "      <td>104.0</td>\n",
       "      <td>1.063</td>\n",
       "      <td>1.14</td>\n",
       "      <td>us</td>\n",
       "      <td>usc000mqln</td>\n",
       "      <td>2014-04-08T01:43:19.000Z</td>\n",
       "      <td>120km N of Raoul Island, New Zealand</td>\n",
       "      <td>earthquake</td>\n",
       "      <td>New Zealand</td>\n",
       "    </tr>\n",
       "    <tr>\n",
       "      <th>16</th>\n",
       "      <td>2014-01-31 22:49:49.740</td>\n",
       "      <td>-23.1192</td>\n",
       "      <td>179.1174</td>\n",
       "      <td>528.34</td>\n",
       "      <td>4.4</td>\n",
       "      <td>mb</td>\n",
       "      <td>NaN</td>\n",
       "      <td>80.0</td>\n",
       "      <td>5.439</td>\n",
       "      <td>0.95</td>\n",
       "      <td>us</td>\n",
       "      <td>usc000mqls</td>\n",
       "      <td>2014-04-08T01:43:19.000Z</td>\n",
       "      <td>South of the Fiji Islands</td>\n",
       "      <td>earthquake</td>\n",
       "      <td>None</td>\n",
       "    </tr>\n",
       "    <tr>\n",
       "      <th>26</th>\n",
       "      <td>2014-01-31 22:19:44.330</td>\n",
       "      <td>51.1569</td>\n",
       "      <td>-178.0910</td>\n",
       "      <td>37.50</td>\n",
       "      <td>4.2</td>\n",
       "      <td>mb</td>\n",
       "      <td>NaN</td>\n",
       "      <td>NaN</td>\n",
       "      <td>NaN</td>\n",
       "      <td>0.83</td>\n",
       "      <td>us</td>\n",
       "      <td>usc000mf1x</td>\n",
       "      <td>2014-04-08T01:43:19.000Z</td>\n",
       "      <td>72km E of Amatignak Island, Alaska</td>\n",
       "      <td>earthquake</td>\n",
       "      <td>Alaska</td>\n",
       "    </tr>\n",
       "    <tr>\n",
       "      <th>31</th>\n",
       "      <td>2014-01-31 21:56:44.320</td>\n",
       "      <td>-4.8800</td>\n",
       "      <td>153.8434</td>\n",
       "      <td>112.66</td>\n",
       "      <td>4.3</td>\n",
       "      <td>mb</td>\n",
       "      <td>NaN</td>\n",
       "      <td>199.0</td>\n",
       "      <td>1.808</td>\n",
       "      <td>0.79</td>\n",
       "      <td>us</td>\n",
       "      <td>usc000mqlm</td>\n",
       "      <td>2014-04-08T01:43:19.000Z</td>\n",
       "      <td>100km ESE of Taron, Papua New Guinea</td>\n",
       "      <td>earthquake</td>\n",
       "      <td>Papua New Guinea</td>\n",
       "    </tr>\n",
       "  </tbody>\n",
       "</table>\n",
       "</div>"
      ],
      "text/plain": [
       "                      time  latitude  longitude   depth  mag magType  nst  \\\n",
       "10 2014-01-31 23:08:03.660   -4.9758   153.9466  110.18  4.2      mb  NaN   \n",
       "14 2014-01-31 22:54:32.970  -28.1775  -177.9058   95.84  4.3      mb  NaN   \n",
       "16 2014-01-31 22:49:49.740  -23.1192   179.1174  528.34  4.4      mb  NaN   \n",
       "26 2014-01-31 22:19:44.330   51.1569  -178.0910   37.50  4.2      mb  NaN   \n",
       "31 2014-01-31 21:56:44.320   -4.8800   153.8434  112.66  4.3      mb  NaN   \n",
       "\n",
       "      gap   dmin   rms net          id                   updated  \\\n",
       "10   98.0  1.940  0.61  us  usc000mqlp  2014-04-08T01:43:19.000Z   \n",
       "14  104.0  1.063  1.14  us  usc000mqln  2014-04-08T01:43:19.000Z   \n",
       "16   80.0  5.439  0.95  us  usc000mqls  2014-04-08T01:43:19.000Z   \n",
       "26    NaN    NaN  0.83  us  usc000mf1x  2014-04-08T01:43:19.000Z   \n",
       "31  199.0  1.808  0.79  us  usc000mqlm  2014-04-08T01:43:19.000Z   \n",
       "\n",
       "                                   place        type            country  \n",
       "10  115km ESE of Taron, Papua New Guinea  earthquake   Papua New Guinea  \n",
       "14  120km N of Raoul Island, New Zealand  earthquake        New Zealand  \n",
       "16             South of the Fiji Islands  earthquake               None  \n",
       "26    72km E of Amatignak Island, Alaska  earthquake             Alaska  \n",
       "31  100km ESE of Taron, Papua New Guinea  earthquake   Papua New Guinea  "
      ]
     },
     "execution_count": 27,
     "metadata": {},
     "output_type": "execute_result"
    }
   ],
   "source": [
    "#masking to get earthquake magnitude >= 4\n",
    "\n",
    "quake_ge4 = earthquakes[earthquakes.mag >= 4]\n",
    "quake_ge4.head()"
   ]
  },
  {
   "cell_type": "code",
   "execution_count": 28,
   "id": "8c52d201",
   "metadata": {},
   "outputs": [
    {
     "data": {
      "text/plain": [
       "earthquake          17546\n",
       "mining explosion        1\n",
       "Name: type, dtype: int64"
      ]
     },
     "execution_count": 28,
     "metadata": {},
     "output_type": "execute_result"
    }
   ],
   "source": [
    "quake_ge4['type'].value_counts().head()"
   ]
  },
  {
   "cell_type": "code",
   "execution_count": 29,
   "id": "7a22c0c6",
   "metadata": {},
   "outputs": [],
   "source": [
    "# locations that are most affected by earthquakes wrt number of earthquakes. \n",
    "\n",
    "top_affected = quake_ge4.groupby('type')['country'].value_counts().head(5)"
   ]
  },
  {
   "cell_type": "code",
   "execution_count": 30,
   "id": "d6299d76",
   "metadata": {},
   "outputs": [
    {
     "data": {
      "text/plain": [
       "type        country          \n",
       "earthquake   Indonesia           2112\n",
       "             Papua New Guinea    1354\n",
       "             Japan               1150\n",
       "             Chile               1119\n",
       "             New Zealand          758\n",
       "Name: country, dtype: int64"
      ]
     },
     "execution_count": 30,
     "metadata": {},
     "output_type": "execute_result"
    }
   ],
   "source": [
    "top_affected"
   ]
  },
  {
   "cell_type": "code",
   "execution_count": 31,
   "id": "26b00f20",
   "metadata": {},
   "outputs": [
    {
     "data": {
      "image/png": "[encoded data removed]",
      "text/plain": [
       "<Figure size 432x288 with 1 Axes>"
      ]
     },
     "metadata": {
      "needs_background": "light"
     },
     "output_type": "display_data"
    }
   ],
   "source": [
    "#simple visualization using barchart\n",
    "\n",
    "top_affected.plot(kind='bar');"
   ]
  },
  {
   "cell_type": "code",
   "execution_count": 32,
   "id": "9325cb03",
   "metadata": {},
   "outputs": [
    {
     "data": {
      "text/html": [
       "<div>\n",
       "<style scoped>\n",
       "    .dataframe tbody tr th:only-of-type {\n",
       "        vertical-align: middle;\n",
       "    }\n",
       "\n",
       "    .dataframe tbody tr th {\n",
       "        vertical-align: top;\n",
       "    }\n",
       "\n",
       "    .dataframe thead th {\n",
       "        text-align: right;\n",
       "    }\n",
       "</style>\n",
       "<table border=\"1\" class=\"dataframe\">\n",
       "  <thead>\n",
       "    <tr style=\"text-align: right;\">\n",
       "      <th></th>\n",
       "      <th>time</th>\n",
       "      <th>latitude</th>\n",
       "      <th>longitude</th>\n",
       "      <th>depth</th>\n",
       "      <th>mag</th>\n",
       "      <th>magType</th>\n",
       "      <th>nst</th>\n",
       "      <th>gap</th>\n",
       "      <th>dmin</th>\n",
       "      <th>rms</th>\n",
       "      <th>net</th>\n",
       "      <th>id</th>\n",
       "      <th>updated</th>\n",
       "      <th>place</th>\n",
       "      <th>type</th>\n",
       "      <th>country</th>\n",
       "    </tr>\n",
       "  </thead>\n",
       "  <tbody>\n",
       "    <tr>\n",
       "      <th>10</th>\n",
       "      <td>2014-01-31 23:08:03.660</td>\n",
       "      <td>-4.9758</td>\n",
       "      <td>153.9466</td>\n",
       "      <td>110.18</td>\n",
       "      <td>4.2</td>\n",
       "      <td>mb</td>\n",
       "      <td>NaN</td>\n",
       "      <td>98.0</td>\n",
       "      <td>1.940</td>\n",
       "      <td>0.61</td>\n",
       "      <td>us</td>\n",
       "      <td>usc000mqlp</td>\n",
       "      <td>2014-04-08T01:43:19.000Z</td>\n",
       "      <td>115km ESE of Taron, Papua New Guinea</td>\n",
       "      <td>earthquake</td>\n",
       "      <td>Papua New Guinea</td>\n",
       "    </tr>\n",
       "    <tr>\n",
       "      <th>14</th>\n",
       "      <td>2014-01-31 22:54:32.970</td>\n",
       "      <td>-28.1775</td>\n",
       "      <td>-177.9058</td>\n",
       "      <td>95.84</td>\n",
       "      <td>4.3</td>\n",
       "      <td>mb</td>\n",
       "      <td>NaN</td>\n",
       "      <td>104.0</td>\n",
       "      <td>1.063</td>\n",
       "      <td>1.14</td>\n",
       "      <td>us</td>\n",
       "      <td>usc000mqln</td>\n",
       "      <td>2014-04-08T01:43:19.000Z</td>\n",
       "      <td>120km N of Raoul Island, New Zealand</td>\n",
       "      <td>earthquake</td>\n",
       "      <td>New Zealand</td>\n",
       "    </tr>\n",
       "  </tbody>\n",
       "</table>\n",
       "</div>"
      ],
      "text/plain": [
       "                      time  latitude  longitude   depth  mag magType  nst  \\\n",
       "10 2014-01-31 23:08:03.660   -4.9758   153.9466  110.18  4.2      mb  NaN   \n",
       "14 2014-01-31 22:54:32.970  -28.1775  -177.9058   95.84  4.3      mb  NaN   \n",
       "\n",
       "      gap   dmin   rms net          id                   updated  \\\n",
       "10   98.0  1.940  0.61  us  usc000mqlp  2014-04-08T01:43:19.000Z   \n",
       "14  104.0  1.063  1.14  us  usc000mqln  2014-04-08T01:43:19.000Z   \n",
       "\n",
       "                                   place        type            country  \n",
       "10  115km ESE of Taron, Papua New Guinea  earthquake   Papua New Guinea  \n",
       "14  120km N of Raoul Island, New Zealand  earthquake        New Zealand  "
      ]
     },
     "execution_count": 32,
     "metadata": {},
     "output_type": "execute_result"
    }
   ],
   "source": [
    "#fileterd: quake_ge4, unfilterd: earthquaabs\n",
    "\n",
    "quake_ge4.head(2)"
   ]
  },
  {
   "cell_type": "code",
   "execution_count": 33,
   "id": "61e46754",
   "metadata": {
    "scrolled": false
   },
   "outputs": [
    {
     "data": {
      "text/html": [
       "<div>\n",
       "<style scoped>\n",
       "    .dataframe tbody tr th:only-of-type {\n",
       "        vertical-align: middle;\n",
       "    }\n",
       "\n",
       "    .dataframe tbody tr th {\n",
       "        vertical-align: top;\n",
       "    }\n",
       "\n",
       "    .dataframe thead th {\n",
       "        text-align: right;\n",
       "    }\n",
       "</style>\n",
       "<table border=\"1\" class=\"dataframe\">\n",
       "  <thead>\n",
       "    <tr style=\"text-align: right;\">\n",
       "      <th></th>\n",
       "      <th>time</th>\n",
       "      <th>latitude</th>\n",
       "      <th>longitude</th>\n",
       "      <th>depth</th>\n",
       "      <th>mag</th>\n",
       "      <th>magType</th>\n",
       "      <th>nst</th>\n",
       "      <th>gap</th>\n",
       "      <th>dmin</th>\n",
       "      <th>rms</th>\n",
       "      <th>net</th>\n",
       "      <th>id</th>\n",
       "      <th>updated</th>\n",
       "      <th>place</th>\n",
       "      <th>type</th>\n",
       "      <th>country</th>\n",
       "    </tr>\n",
       "  </thead>\n",
       "  <tbody>\n",
       "    <tr>\n",
       "      <th>0</th>\n",
       "      <td>2014-01-31 23:53:37.000</td>\n",
       "      <td>60.2520</td>\n",
       "      <td>-152.7081</td>\n",
       "      <td>90.2</td>\n",
       "      <td>1.10</td>\n",
       "      <td>ml</td>\n",
       "      <td>NaN</td>\n",
       "      <td>NaN</td>\n",
       "      <td>NaN</td>\n",
       "      <td>0.2900</td>\n",
       "      <td>ak</td>\n",
       "      <td>ak11155107</td>\n",
       "      <td>2014-02-05T19:34:41.515Z</td>\n",
       "      <td>26km S of Redoubt Volcano, Alaska</td>\n",
       "      <td>earthquake</td>\n",
       "      <td>Alaska</td>\n",
       "    </tr>\n",
       "    <tr>\n",
       "      <th>1</th>\n",
       "      <td>2014-01-31 23:48:35.452</td>\n",
       "      <td>37.0703</td>\n",
       "      <td>-115.1309</td>\n",
       "      <td>0.0</td>\n",
       "      <td>1.33</td>\n",
       "      <td>ml</td>\n",
       "      <td>4.0</td>\n",
       "      <td>171.43</td>\n",
       "      <td>0.342</td>\n",
       "      <td>0.0247</td>\n",
       "      <td>nn</td>\n",
       "      <td>nn00436847</td>\n",
       "      <td>2014-02-01T01:35:09.000Z</td>\n",
       "      <td>32km S of Alamo, Nevada</td>\n",
       "      <td>earthquake</td>\n",
       "      <td>Nevada</td>\n",
       "    </tr>\n",
       "  </tbody>\n",
       "</table>\n",
       "</div>"
      ],
      "text/plain": [
       "                     time  latitude  longitude  depth   mag magType  nst  \\\n",
       "0 2014-01-31 23:53:37.000   60.2520  -152.7081   90.2  1.10      ml  NaN   \n",
       "1 2014-01-31 23:48:35.452   37.0703  -115.1309    0.0  1.33      ml  4.0   \n",
       "\n",
       "      gap   dmin     rms net          id                   updated  \\\n",
       "0     NaN    NaN  0.2900  ak  ak11155107  2014-02-05T19:34:41.515Z   \n",
       "1  171.43  0.342  0.0247  nn  nn00436847  2014-02-01T01:35:09.000Z   \n",
       "\n",
       "                               place        type  country  \n",
       "0  26km S of Redoubt Volcano, Alaska  earthquake   Alaska  \n",
       "1            32km S of Alamo, Nevada  earthquake   Nevada  "
      ]
     },
     "execution_count": 33,
     "metadata": {},
     "output_type": "execute_result"
    }
   ],
   "source": [
    "earthquakes.head(2)"
   ]
  },
  {
   "cell_type": "markdown",
   "id": "f0038484",
   "metadata": {},
   "source": [
    "plotting"
   ]
  },
  {
   "cell_type": "code",
   "execution_count": 47,
   "id": "c430b343",
   "metadata": {},
   "outputs": [
    {
     "data": {
      "image/png": "[encoded data removed]",
      "text/plain": [
       "<Figure size 432x288 with 2 Axes>"
      ]
     },
     "metadata": {
      "needs_background": "light"
     },
     "output_type": "display_data"
    }
   ],
   "source": [
    "fig = plt.figure()\n",
    "ax = plt.axes()\n",
    "\n",
    "plt.subplot(2,1,1)\n",
    "plt.hist(quake_ge4.mag, log=True, bins=10)\n",
    "plt.title('magnitude greater than 4')\n",
    "plt.xlabel('magnitude (mb)')\n",
    "plt.ylabel('frquency')\n",
    "\n",
    "\n",
    "plt.subplot(2,1,2)\n",
    "plt.hist(earthquakes.mag, log=True, bins=10)\n",
    "plt.title('original magnitudes')\n",
    "plt.xlabel('magnitude (mb)')\n",
    "plt.ylabel('frquency');"
   ]
  },
  {
   "cell_type": "code",
   "execution_count": 34,
   "id": "d905b641",
   "metadata": {
    "scrolled": false
   },
   "outputs": [
    {
     "data": {
      "image/png": "[encoded data removed]",
      "text/plain": [
       "<Figure size 432x288 with 9 Axes>"
      ]
     },
     "metadata": {
      "needs_background": "light"
     },
     "output_type": "display_data"
    }
   ],
   "source": [
    "quake_ge4.hist();"
   ]
  },
  {
   "cell_type": "code",
   "execution_count": 36,
   "id": "8bf7b3fd",
   "metadata": {},
   "outputs": [
    {
     "data": {
      "image/png": "[encoded data removed]",
      "text/plain": [
       "<Figure size 432x288 with 9 Axes>"
      ]
     },
     "metadata": {
      "needs_background": "light"
     },
     "output_type": "display_data"
    }
   ],
   "source": [
    "earthquakes.hist();"
   ]
  },
  {
   "cell_type": "code",
   "execution_count": 37,
   "id": "165778e3",
   "metadata": {},
   "outputs": [
    {
     "data": {
      "text/html": [
       "<div>\n",
       "<style scoped>\n",
       "    .dataframe tbody tr th:only-of-type {\n",
       "        vertical-align: middle;\n",
       "    }\n",
       "\n",
       "    .dataframe tbody tr th {\n",
       "        vertical-align: top;\n",
       "    }\n",
       "\n",
       "    .dataframe thead th {\n",
       "        text-align: right;\n",
       "    }\n",
       "</style>\n",
       "<table border=\"1\" class=\"dataframe\">\n",
       "  <thead>\n",
       "    <tr style=\"text-align: right;\">\n",
       "      <th></th>\n",
       "      <th>time</th>\n",
       "      <th>latitude</th>\n",
       "      <th>longitude</th>\n",
       "      <th>depth</th>\n",
       "      <th>mag</th>\n",
       "      <th>magType</th>\n",
       "      <th>nst</th>\n",
       "      <th>gap</th>\n",
       "      <th>dmin</th>\n",
       "      <th>rms</th>\n",
       "      <th>net</th>\n",
       "      <th>id</th>\n",
       "      <th>updated</th>\n",
       "      <th>place</th>\n",
       "      <th>type</th>\n",
       "      <th>country</th>\n",
       "    </tr>\n",
       "  </thead>\n",
       "  <tbody>\n",
       "    <tr>\n",
       "      <th>0</th>\n",
       "      <td>2014-01-31 23:53:37.000</td>\n",
       "      <td>60.2520</td>\n",
       "      <td>-152.7081</td>\n",
       "      <td>90.2</td>\n",
       "      <td>1.10</td>\n",
       "      <td>ml</td>\n",
       "      <td>NaN</td>\n",
       "      <td>NaN</td>\n",
       "      <td>NaN</td>\n",
       "      <td>0.2900</td>\n",
       "      <td>ak</td>\n",
       "      <td>ak11155107</td>\n",
       "      <td>2014-02-05T19:34:41.515Z</td>\n",
       "      <td>26km S of Redoubt Volcano, Alaska</td>\n",
       "      <td>earthquake</td>\n",
       "      <td>Alaska</td>\n",
       "    </tr>\n",
       "    <tr>\n",
       "      <th>1</th>\n",
       "      <td>2014-01-31 23:48:35.452</td>\n",
       "      <td>37.0703</td>\n",
       "      <td>-115.1309</td>\n",
       "      <td>0.0</td>\n",
       "      <td>1.33</td>\n",
       "      <td>ml</td>\n",
       "      <td>4.0</td>\n",
       "      <td>171.43</td>\n",
       "      <td>0.342</td>\n",
       "      <td>0.0247</td>\n",
       "      <td>nn</td>\n",
       "      <td>nn00436847</td>\n",
       "      <td>2014-02-01T01:35:09.000Z</td>\n",
       "      <td>32km S of Alamo, Nevada</td>\n",
       "      <td>earthquake</td>\n",
       "      <td>Nevada</td>\n",
       "    </tr>\n",
       "    <tr>\n",
       "      <th>2</th>\n",
       "      <td>2014-01-31 23:47:24.000</td>\n",
       "      <td>64.6717</td>\n",
       "      <td>-149.2528</td>\n",
       "      <td>7.1</td>\n",
       "      <td>1.30</td>\n",
       "      <td>ml</td>\n",
       "      <td>NaN</td>\n",
       "      <td>NaN</td>\n",
       "      <td>NaN</td>\n",
       "      <td>1.0000</td>\n",
       "      <td>ak</td>\n",
       "      <td>ak11151142</td>\n",
       "      <td>2014-02-01T00:03:53.010Z</td>\n",
       "      <td>12km NNW of North Nenana, Alaska</td>\n",
       "      <td>earthquake</td>\n",
       "      <td>Alaska</td>\n",
       "    </tr>\n",
       "  </tbody>\n",
       "</table>\n",
       "</div>"
      ],
      "text/plain": [
       "                     time  latitude  longitude  depth   mag magType  nst  \\\n",
       "0 2014-01-31 23:53:37.000   60.2520  -152.7081   90.2  1.10      ml  NaN   \n",
       "1 2014-01-31 23:48:35.452   37.0703  -115.1309    0.0  1.33      ml  4.0   \n",
       "2 2014-01-31 23:47:24.000   64.6717  -149.2528    7.1  1.30      ml  NaN   \n",
       "\n",
       "      gap   dmin     rms net          id                   updated  \\\n",
       "0     NaN    NaN  0.2900  ak  ak11155107  2014-02-05T19:34:41.515Z   \n",
       "1  171.43  0.342  0.0247  nn  nn00436847  2014-02-01T01:35:09.000Z   \n",
       "2     NaN    NaN  1.0000  ak  ak11151142  2014-02-01T00:03:53.010Z   \n",
       "\n",
       "                               place        type  country  \n",
       "0  26km S of Redoubt Volcano, Alaska  earthquake   Alaska  \n",
       "1            32km S of Alamo, Nevada  earthquake   Nevada  \n",
       "2   12km NNW of North Nenana, Alaska  earthquake   Alaska  "
      ]
     },
     "execution_count": 37,
     "metadata": {},
     "output_type": "execute_result"
    }
   ],
   "source": [
    "earthquakes.head(3)"
   ]
  },
  {
   "cell_type": "code",
   "execution_count": 38,
   "id": "b32fd7dc",
   "metadata": {},
   "outputs": [
    {
     "data": {
      "image/png": "[encoded data removed]",
      "text/plain": [
       "<Figure size 432x288 with 1 Axes>"
      ]
     },
     "metadata": {
      "needs_background": "light"
     },
     "output_type": "display_data"
    }
   ],
   "source": [
    "plt.hist(quake_ge4.mag, bins=20)\n",
    "plt.title('distribution of magnitude of earthquake greater than 4')\n",
    "plt.xlabel('x axis: magnitudes')\n",
    "plt.ylabel('y axis: numbers');"
   ]
  },
  {
   "cell_type": "code",
   "execution_count": 39,
   "id": "4bdde1cb",
   "metadata": {},
   "outputs": [
    {
     "data": {
      "image/png": "[encoded data removed]",
      "text/plain": [
       "<Figure size 432x288 with 1 Axes>"
      ]
     },
     "metadata": {
      "needs_background": "light"
     },
     "output_type": "display_data"
    }
   ],
   "source": [
    "plt.hist(earthquakes.mag, bins=20)\n",
    "plt.title('distribution of earthquake')\n",
    "plt.xlabel('x axis: magnitudes')\n",
    "plt.ylabel('y axis: numbers');"
   ]
  },
  {
   "cell_type": "code",
   "execution_count": 61,
   "id": "849d06cb",
   "metadata": {
    "scrolled": true
   },
   "outputs": [
    {
     "name": "stdout",
     "output_type": "stream",
     "text": [
      "<class 'pandas.core.series.Series'>\n",
      "Int64Index: 17547 entries, 10 to 120100\n",
      "Series name: latitude\n",
      "Non-Null Count  Dtype  \n",
      "--------------  -----  \n",
      "17547 non-null  float64\n",
      "dtypes: float64(1)\n",
      "memory usage: 274.2 KB\n"
     ]
    }
   ],
   "source": [
    "quake_ge4.latitude.info()"
   ]
  },
  {
   "cell_type": "code",
   "execution_count": 62,
   "id": "71c4d7c6",
   "metadata": {
    "scrolled": true
   },
   "outputs": [
    {
     "name": "stdout",
     "output_type": "stream",
     "text": [
      "<class 'pandas.core.series.Series'>\n",
      "RangeIndex: 120108 entries, 0 to 120107\n",
      "Series name: latitude\n",
      "Non-Null Count   Dtype  \n",
      "--------------   -----  \n",
      "120108 non-null  float64\n",
      "dtypes: float64(1)\n",
      "memory usage: 938.5 KB\n"
     ]
    }
   ],
   "source": [
    "earthquakes.latitude.info()"
   ]
  },
  {
   "cell_type": "code",
   "execution_count": 78,
   "id": "758750f2",
   "metadata": {},
   "outputs": [
    {
     "data": {
      "text/plain": [
       "''"
      ]
     },
     "execution_count": 78,
     "metadata": {},
     "output_type": "execute_result"
    },
    {
     "data": {
      "image/png": "[encoded data removed]",
      "text/plain": [
       "<Figure size 576x576 with 2 Axes>"
      ]
     },
     "metadata": {
      "needs_background": "light"
     },
     "output_type": "display_data"
    }
   ],
   "source": [
    "#scatter plots\n",
    "plt.subplots(figsize=(8, 8))\n",
    "\n",
    "rng = np.random.RandomState(0)\n",
    "\n",
    "colors1 = rng.rand(17547)\n",
    "size1 = 25 * rng.rand(17547)\n",
    "\n",
    "colors2 = rng.rand(120108)\n",
    "size2 = 25 * rng.rand(120108)\n",
    "\n",
    "plt.subplot(1,2,1)\n",
    "plt.scatter(quake_ge4.latitude, quake_ge4.longitude, c=colors1, s=size1, alpha=0.3, cmap='viridis')\n",
    "plt.title('lat vs lon: locations of earthquake with magnitude >= 4')\n",
    "plt.xlabel('lat')\n",
    "plt.ylabel('lon')\n",
    "\n",
    "plt.subplot(1,2,2)\n",
    "plt.scatter(earthquakes.latitude, earthquakes.longitude, c= colors2, s=size2, alpha=0.3, cmap='viridis')\n",
    "plt.title('locations of earthquake')\n",
    "plt.xlabel('lat')\n",
    "#plt.ylabel('lon')\n",
    ";\n",
    "\n",
    "\n",
    "#plt.colorbar();"
   ]
  },
  {
   "cell_type": "code",
   "execution_count": null,
   "id": "24111a94",
   "metadata": {},
   "outputs": [],
   "source": []
  }
 ],
 "metadata": {
  "kernelspec": {
   "display_name": "Python 3 (ipykernel)",
   "language": "python",
   "name": "python3"
  },
  "language_info": {
   "codemirror_mode": {
    "name": "ipython",
    "version": 3
   },
   "file_extension": ".py",
   "mimetype": "text/x-python",
   "name": "python",
   "nbconvert_exporter": "python",
   "pygments_lexer": "ipython3",
   "version": "3.8.13"
  }
 },
 "nbformat": 4,
 "nbformat_minor": 5
}
