{
 "cells": [
  {
   "cell_type": "code",
   "execution_count": 1,
   "id": "f5ccef05",
   "metadata": {},
   "outputs": [],
   "source": [
    "import numpy as np\n",
    "import pandas as pd\n",
    "import matplotlib.pyplot as plt\n",
    "import seaborn as sns\n",
    "%matplotlib inline"
   ]
  },
  {
   "cell_type": "code",
   "execution_count": 2,
   "id": "e23e3f1f",
   "metadata": {},
   "outputs": [
    {
     "data": {
      "text/html": [
       "<div>\n",
       "<style scoped>\n",
       "    .dataframe tbody tr th:only-of-type {\n",
       "        vertical-align: middle;\n",
       "    }\n",
       "\n",
       "    .dataframe tbody tr th {\n",
       "        vertical-align: top;\n",
       "    }\n",
       "\n",
       "    .dataframe thead th {\n",
       "        text-align: right;\n",
       "    }\n",
       "</style>\n",
       "<table border=\"1\" class=\"dataframe\">\n",
       "  <thead>\n",
       "    <tr style=\"text-align: right;\">\n",
       "      <th></th>\n",
       "      <th>SID</th>\n",
       "      <th>SEASON</th>\n",
       "      <th>NUMBER</th>\n",
       "      <th>BASIN</th>\n",
       "      <th>SUBBASIN</th>\n",
       "      <th>NAME</th>\n",
       "      <th>ISO_TIME</th>\n",
       "      <th>NATURE</th>\n",
       "      <th>LAT</th>\n",
       "      <th>LON</th>\n",
       "      <th>WMO_WIND</th>\n",
       "      <th>WMO_PRES</th>\n",
       "    </tr>\n",
       "  </thead>\n",
       "  <tbody>\n",
       "    <tr>\n",
       "      <th>0</th>\n",
       "      <td>1842298N11080</td>\n",
       "      <td>1842</td>\n",
       "      <td>1</td>\n",
       "      <td>NI</td>\n",
       "      <td>BB</td>\n",
       "      <td>NaN</td>\n",
       "      <td>1842-10-25 03:00:00</td>\n",
       "      <td>NR</td>\n",
       "      <td>10.9000</td>\n",
       "      <td>80.3000</td>\n",
       "      <td>NaN</td>\n",
       "      <td>NaN</td>\n",
       "    </tr>\n",
       "    <tr>\n",
       "      <th>1</th>\n",
       "      <td>1842298N11080</td>\n",
       "      <td>1842</td>\n",
       "      <td>1</td>\n",
       "      <td>NI</td>\n",
       "      <td>BB</td>\n",
       "      <td>NaN</td>\n",
       "      <td>1842-10-25 06:00:00</td>\n",
       "      <td>NR</td>\n",
       "      <td>10.8709</td>\n",
       "      <td>79.8265</td>\n",
       "      <td>NaN</td>\n",
       "      <td>NaN</td>\n",
       "    </tr>\n",
       "    <tr>\n",
       "      <th>2</th>\n",
       "      <td>1842298N11080</td>\n",
       "      <td>1842</td>\n",
       "      <td>1</td>\n",
       "      <td>NI</td>\n",
       "      <td>BB</td>\n",
       "      <td>NaN</td>\n",
       "      <td>1842-10-25 09:00:00</td>\n",
       "      <td>NR</td>\n",
       "      <td>10.8431</td>\n",
       "      <td>79.3524</td>\n",
       "      <td>NaN</td>\n",
       "      <td>NaN</td>\n",
       "    </tr>\n",
       "  </tbody>\n",
       "</table>\n",
       "</div>"
      ],
      "text/plain": [
       "             SID  SEASON  NUMBER BASIN SUBBASIN NAME            ISO_TIME  \\\n",
       "0  1842298N11080    1842       1    NI       BB  NaN 1842-10-25 03:00:00   \n",
       "1  1842298N11080    1842       1    NI       BB  NaN 1842-10-25 06:00:00   \n",
       "2  1842298N11080    1842       1    NI       BB  NaN 1842-10-25 09:00:00   \n",
       "\n",
       "  NATURE      LAT      LON  WMO_WIND  WMO_PRES  \n",
       "0     NR  10.9000  80.3000       NaN       NaN  \n",
       "1     NR  10.8709  79.8265       NaN       NaN  \n",
       "2     NR  10.8431  79.3524       NaN       NaN  "
      ]
     },
     "execution_count": 2,
     "metadata": {},
     "output_type": "execute_result"
    }
   ],
   "source": [
    "#url = 'https://www.ncei.noaa.gov/data/international-best-track-archive-for-climate-stewardship-ibtracs/v04r00/access/csv/ibtracs.ALL.list.v04r00.csv'\n",
    "disk_loc = '/home/amalpjose/git/earth_proj/earth_proj/ibtracs.ALL.list.v04r00.csv'\n",
    "\n",
    "h_data = pd.read_csv(disk_loc, parse_dates=['ISO_TIME'], usecols=range(12),\n",
    "                 skiprows=[1], na_values=[' ', 'NOT_NAMED'],\n",
    "                 keep_default_na=False, dtype={'NAME': str})\n",
    "h_data.head(3)"
   ]
  },
  {
   "cell_type": "code",
   "execution_count": 3,
   "id": "98a6d867",
   "metadata": {
    "scrolled": true
   },
   "outputs": [
    {
     "data": {
      "text/plain": [
       "Index(['SID', 'SEASON', 'NUMBER', 'BASIN', 'SUBBASIN', 'NAME', 'ISO_TIME',\n",
       "       'NATURE', 'LAT', 'LON', 'WMO_WIND', 'WMO_PRES'],\n",
       "      dtype='object')"
      ]
     },
     "execution_count": 3,
     "metadata": {},
     "output_type": "execute_result"
    }
   ],
   "source": [
    "h_data.columns #labels"
   ]
  },
  {
   "cell_type": "code",
   "execution_count": 4,
   "id": "f216a874",
   "metadata": {},
   "outputs": [
    {
     "data": {
      "text/plain": [
       "RangeIndex(start=0, stop=705009, step=1)"
      ]
     },
     "execution_count": 4,
     "metadata": {},
     "output_type": "execute_result"
    }
   ],
   "source": [
    "h_data.index"
   ]
  },
  {
   "cell_type": "code",
   "execution_count": 5,
   "id": "b06eda8b",
   "metadata": {},
   "outputs": [
    {
     "data": {
      "text/plain": [
       "WP    235885\n",
       "SI    160397\n",
       "NA    124814\n",
       "SP     67045\n",
       "EP     61404\n",
       "NI     55345\n",
       "SA       119\n",
       "Name: BASIN, dtype: int64"
      ]
     },
     "execution_count": 5,
     "metadata": {},
     "output_type": "execute_result"
    }
   ],
   "source": [
    "h_data['BASIN'].value_counts()"
   ]
  },
  {
   "cell_type": "markdown",
   "id": "770b5a9c",
   "metadata": {},
   "source": [
    "124814 North Atlantic hurricanes in the dataset."
   ]
  },
  {
   "cell_type": "markdown",
   "id": "c3cf5f17",
   "metadata": {},
   "source": [
    "retrieving the unique values in basin, subbasin, and nature"
   ]
  },
  {
   "cell_type": "code",
   "execution_count": 6,
   "id": "0b6c6af1",
   "metadata": {},
   "outputs": [
    {
     "data": {
      "text/plain": [
       "(array(['NI', 'SI', 'NA', 'EP', 'WP', 'SP', 'SA'], dtype=object),\n",
       " array(['BB', 'AS', 'MM', 'GM', 'NA', 'CS', 'WA', 'EA', 'CP'], dtype=object),\n",
       " array(['NR', 'TS', 'ET', 'SS', 'MX', 'DS'], dtype=object))"
      ]
     },
     "execution_count": 6,
     "metadata": {},
     "output_type": "execute_result"
    }
   ],
   "source": [
    "\n",
    "h_data['BASIN'].unique(), h_data['SUBBASIN'].unique(), h_data['NATURE'].unique()"
   ]
  },
  {
   "cell_type": "code",
   "execution_count": 7,
   "id": "e13c956f",
   "metadata": {},
   "outputs": [],
   "source": [
    "#renaming two columns\n",
    "\n",
    "new_map = {\n",
    "     \"WMO_WIND\": \"WIND\",\n",
    "     \"WMO_PRES\": \"PRES\",\n",
    " }\n"
   ]
  },
  {
   "cell_type": "code",
   "execution_count": 8,
   "id": "9bb03135",
   "metadata": {},
   "outputs": [],
   "source": [
    "h_data = h_data.rename(columns=new_map)"
   ]
  },
  {
   "cell_type": "markdown",
   "id": "839f65be",
   "metadata": {},
   "source": [
    "Get the 10 largest rows in the dataset by WIND"
   ]
  },
  {
   "cell_type": "code",
   "execution_count": 9,
   "id": "203e2eef",
   "metadata": {
    "scrolled": true
   },
   "outputs": [
    {
     "data": {
      "text/html": [
       "<div>\n",
       "<style scoped>\n",
       "    .dataframe tbody tr th:only-of-type {\n",
       "        vertical-align: middle;\n",
       "    }\n",
       "\n",
       "    .dataframe tbody tr th {\n",
       "        vertical-align: top;\n",
       "    }\n",
       "\n",
       "    .dataframe thead th {\n",
       "        text-align: right;\n",
       "    }\n",
       "</style>\n",
       "<table border=\"1\" class=\"dataframe\">\n",
       "  <thead>\n",
       "    <tr style=\"text-align: right;\">\n",
       "      <th></th>\n",
       "      <th>SID</th>\n",
       "      <th>SEASON</th>\n",
       "      <th>NUMBER</th>\n",
       "      <th>BASIN</th>\n",
       "      <th>SUBBASIN</th>\n",
       "      <th>NAME</th>\n",
       "      <th>ISO_TIME</th>\n",
       "      <th>NATURE</th>\n",
       "      <th>LAT</th>\n",
       "      <th>LON</th>\n",
       "      <th>WIND</th>\n",
       "      <th>PRES</th>\n",
       "    </tr>\n",
       "  </thead>\n",
       "  <tbody>\n",
       "    <tr>\n",
       "      <th>666348</th>\n",
       "      <td>2015293N13266</td>\n",
       "      <td>2015</td>\n",
       "      <td>96</td>\n",
       "      <td>EP</td>\n",
       "      <td>MM</td>\n",
       "      <td>PATRICIA</td>\n",
       "      <td>2015-10-23 12:00:00</td>\n",
       "      <td>TS</td>\n",
       "      <td>17.3</td>\n",
       "      <td>-105.6</td>\n",
       "      <td>185.0</td>\n",
       "      <td>872.0</td>\n",
       "    </tr>\n",
       "    <tr>\n",
       "      <th>666346</th>\n",
       "      <td>2015293N13266</td>\n",
       "      <td>2015</td>\n",
       "      <td>96</td>\n",
       "      <td>EP</td>\n",
       "      <td>MM</td>\n",
       "      <td>PATRICIA</td>\n",
       "      <td>2015-10-23 06:00:00</td>\n",
       "      <td>TS</td>\n",
       "      <td>16.5</td>\n",
       "      <td>-105.4</td>\n",
       "      <td>180.0</td>\n",
       "      <td>886.0</td>\n",
       "    </tr>\n",
       "    <tr>\n",
       "      <th>666350</th>\n",
       "      <td>2015293N13266</td>\n",
       "      <td>2015</td>\n",
       "      <td>96</td>\n",
       "      <td>EP</td>\n",
       "      <td>MM</td>\n",
       "      <td>PATRICIA</td>\n",
       "      <td>2015-10-23 18:00:00</td>\n",
       "      <td>TS</td>\n",
       "      <td>18.3</td>\n",
       "      <td>-105.3</td>\n",
       "      <td>180.0</td>\n",
       "      <td>878.0</td>\n",
       "    </tr>\n",
       "    <tr>\n",
       "      <th>428030</th>\n",
       "      <td>1980214N11330</td>\n",
       "      <td>1980</td>\n",
       "      <td>57</td>\n",
       "      <td>NA</td>\n",
       "      <td>GM</td>\n",
       "      <td>ALLEN</td>\n",
       "      <td>1980-08-07 18:00:00</td>\n",
       "      <td>TS</td>\n",
       "      <td>21.8</td>\n",
       "      <td>-86.4</td>\n",
       "      <td>165.0</td>\n",
       "      <td>899.0</td>\n",
       "    </tr>\n",
       "    <tr>\n",
       "      <th>178210</th>\n",
       "      <td>1935241N23291</td>\n",
       "      <td>1935</td>\n",
       "      <td>46</td>\n",
       "      <td>NA</td>\n",
       "      <td>NA</td>\n",
       "      <td>NaN</td>\n",
       "      <td>1935-09-03 00:00:00</td>\n",
       "      <td>TS</td>\n",
       "      <td>24.6</td>\n",
       "      <td>-80.5</td>\n",
       "      <td>160.0</td>\n",
       "      <td>892.0</td>\n",
       "    </tr>\n",
       "  </tbody>\n",
       "</table>\n",
       "</div>"
      ],
      "text/plain": [
       "                  SID  SEASON  NUMBER BASIN SUBBASIN      NAME  \\\n",
       "666348  2015293N13266    2015      96    EP       MM  PATRICIA   \n",
       "666346  2015293N13266    2015      96    EP       MM  PATRICIA   \n",
       "666350  2015293N13266    2015      96    EP       MM  PATRICIA   \n",
       "428030  1980214N11330    1980      57    NA       GM     ALLEN   \n",
       "178210  1935241N23291    1935      46    NA       NA       NaN   \n",
       "\n",
       "                  ISO_TIME NATURE   LAT    LON   WIND   PRES  \n",
       "666348 2015-10-23 12:00:00     TS  17.3 -105.6  185.0  872.0  \n",
       "666346 2015-10-23 06:00:00     TS  16.5 -105.4  180.0  886.0  \n",
       "666350 2015-10-23 18:00:00     TS  18.3 -105.3  180.0  878.0  \n",
       "428030 1980-08-07 18:00:00     TS  21.8  -86.4  165.0  899.0  \n",
       "178210 1935-09-03 00:00:00     TS  24.6  -80.5  160.0  892.0  "
      ]
     },
     "execution_count": 9,
     "metadata": {},
     "output_type": "execute_result"
    }
   ],
   "source": [
    "h_data.nlargest(10, 'WIND').head()"
   ]
  },
  {
   "cell_type": "markdown",
   "id": "3d66ef47",
   "metadata": {},
   "source": [
    "Group the data on SID and get the 10 largest hurricanes by WIND"
   ]
  },
  {
   "cell_type": "code",
   "execution_count": 10,
   "id": "1eceefcb",
   "metadata": {},
   "outputs": [
    {
     "data": {
      "text/plain": [
       "SID\n",
       "1973325S09091    137\n",
       "1899215N12329    133\n",
       "1994222N11267    121\n",
       "1971249N26289    118\n",
       "2015364S09190    109\n",
       "Name: WIND, dtype: int64"
      ]
     },
     "execution_count": 10,
     "metadata": {},
     "output_type": "execute_result"
    }
   ],
   "source": [
    "h_data.groupby('SID')['WIND'].count().nlargest(10).head()"
   ]
  },
  {
   "cell_type": "markdown",
   "id": "3216ed3d",
   "metadata": {},
   "source": [
    "ploting the top 20 hurricanes with highest magnitude"
   ]
  },
  {
   "cell_type": "code",
   "execution_count": 11,
   "id": "46808ac6",
   "metadata": {},
   "outputs": [
    {
     "data": {
      "image/png": "[encoded data removed]",
      "text/plain": [
       "<Figure size 864x432 with 1 Axes>"
      ]
     },
     "metadata": {
      "needs_background": "light"
     },
     "output_type": "display_data"
    }
   ],
   "source": [
    "h_data.groupby('NAME')['WIND'].count().nlargest(20).plot(kind='bar', figsize=(12,6));"
   ]
  },
  {
   "cell_type": "markdown",
   "id": "c40c90e5",
   "metadata": {},
   "source": [
    "bar chart of the wind speed of the 20 strongest-wind hurricanes (below)"
   ]
  },
  {
   "cell_type": "code",
   "execution_count": 12,
   "id": "90d5c3a1",
   "metadata": {},
   "outputs": [
    {
     "data": {
      "text/plain": [
       "<AxesSubplot:xlabel='BASIN'>"
      ]
     },
     "execution_count": 12,
     "metadata": {},
     "output_type": "execute_result"
    },
    {
     "data": {
      "image/png": "[encoded data removed]",
      "text/plain": [
       "<Figure size 864x432 with 1 Axes>"
      ]
     },
     "metadata": {
      "needs_background": "light"
     },
     "output_type": "display_data"
    }
   ],
   "source": [
    "h_data.groupby('BASIN').count().plot(kind='bar', figsize=(12,6))"
   ]
  },
  {
   "cell_type": "code",
   "execution_count": 13,
   "id": "2e024eb0",
   "metadata": {},
   "outputs": [
    {
     "data": {
      "text/html": [
       "<div>\n",
       "<style scoped>\n",
       "    .dataframe tbody tr th:only-of-type {\n",
       "        vertical-align: middle;\n",
       "    }\n",
       "\n",
       "    .dataframe tbody tr th {\n",
       "        vertical-align: top;\n",
       "    }\n",
       "\n",
       "    .dataframe thead th {\n",
       "        text-align: right;\n",
       "    }\n",
       "</style>\n",
       "<table border=\"1\" class=\"dataframe\">\n",
       "  <thead>\n",
       "    <tr style=\"text-align: right;\">\n",
       "      <th></th>\n",
       "      <th>SID</th>\n",
       "      <th>SEASON</th>\n",
       "      <th>NUMBER</th>\n",
       "      <th>BASIN</th>\n",
       "      <th>SUBBASIN</th>\n",
       "      <th>NAME</th>\n",
       "      <th>ISO_TIME</th>\n",
       "      <th>NATURE</th>\n",
       "      <th>LAT</th>\n",
       "      <th>LON</th>\n",
       "      <th>WIND</th>\n",
       "      <th>PRES</th>\n",
       "    </tr>\n",
       "  </thead>\n",
       "  <tbody>\n",
       "    <tr>\n",
       "      <th>0</th>\n",
       "      <td>1842298N11080</td>\n",
       "      <td>1842</td>\n",
       "      <td>1</td>\n",
       "      <td>NI</td>\n",
       "      <td>BB</td>\n",
       "      <td>NaN</td>\n",
       "      <td>1842-10-25 03:00:00</td>\n",
       "      <td>NR</td>\n",
       "      <td>10.9000</td>\n",
       "      <td>80.3000</td>\n",
       "      <td>NaN</td>\n",
       "      <td>NaN</td>\n",
       "    </tr>\n",
       "    <tr>\n",
       "      <th>1</th>\n",
       "      <td>1842298N11080</td>\n",
       "      <td>1842</td>\n",
       "      <td>1</td>\n",
       "      <td>NI</td>\n",
       "      <td>BB</td>\n",
       "      <td>NaN</td>\n",
       "      <td>1842-10-25 06:00:00</td>\n",
       "      <td>NR</td>\n",
       "      <td>10.8709</td>\n",
       "      <td>79.8265</td>\n",
       "      <td>NaN</td>\n",
       "      <td>NaN</td>\n",
       "    </tr>\n",
       "    <tr>\n",
       "      <th>2</th>\n",
       "      <td>1842298N11080</td>\n",
       "      <td>1842</td>\n",
       "      <td>1</td>\n",
       "      <td>NI</td>\n",
       "      <td>BB</td>\n",
       "      <td>NaN</td>\n",
       "      <td>1842-10-25 09:00:00</td>\n",
       "      <td>NR</td>\n",
       "      <td>10.8431</td>\n",
       "      <td>79.3524</td>\n",
       "      <td>NaN</td>\n",
       "      <td>NaN</td>\n",
       "    </tr>\n",
       "    <tr>\n",
       "      <th>3</th>\n",
       "      <td>1842298N11080</td>\n",
       "      <td>1842</td>\n",
       "      <td>1</td>\n",
       "      <td>NI</td>\n",
       "      <td>BB</td>\n",
       "      <td>NaN</td>\n",
       "      <td>1842-10-25 12:00:00</td>\n",
       "      <td>NR</td>\n",
       "      <td>10.8188</td>\n",
       "      <td>78.8772</td>\n",
       "      <td>NaN</td>\n",
       "      <td>NaN</td>\n",
       "    </tr>\n",
       "    <tr>\n",
       "      <th>4</th>\n",
       "      <td>1842298N11080</td>\n",
       "      <td>1842</td>\n",
       "      <td>1</td>\n",
       "      <td>NI</td>\n",
       "      <td>BB</td>\n",
       "      <td>NaN</td>\n",
       "      <td>1842-10-25 15:00:00</td>\n",
       "      <td>NR</td>\n",
       "      <td>10.8000</td>\n",
       "      <td>78.4000</td>\n",
       "      <td>NaN</td>\n",
       "      <td>NaN</td>\n",
       "    </tr>\n",
       "  </tbody>\n",
       "</table>\n",
       "</div>"
      ],
      "text/plain": [
       "             SID  SEASON  NUMBER BASIN SUBBASIN NAME            ISO_TIME  \\\n",
       "0  1842298N11080    1842       1    NI       BB  NaN 1842-10-25 03:00:00   \n",
       "1  1842298N11080    1842       1    NI       BB  NaN 1842-10-25 06:00:00   \n",
       "2  1842298N11080    1842       1    NI       BB  NaN 1842-10-25 09:00:00   \n",
       "3  1842298N11080    1842       1    NI       BB  NaN 1842-10-25 12:00:00   \n",
       "4  1842298N11080    1842       1    NI       BB  NaN 1842-10-25 15:00:00   \n",
       "\n",
       "  NATURE      LAT      LON  WIND  PRES  \n",
       "0     NR  10.9000  80.3000   NaN   NaN  \n",
       "1     NR  10.8709  79.8265   NaN   NaN  \n",
       "2     NR  10.8431  79.3524   NaN   NaN  \n",
       "3     NR  10.8188  78.8772   NaN   NaN  \n",
       "4     NR  10.8000  78.4000   NaN   NaN  "
      ]
     },
     "execution_count": 13,
     "metadata": {},
     "output_type": "execute_result"
    }
   ],
   "source": [
    "h_data.head()"
   ]
  },
  {
   "cell_type": "markdown",
   "id": "d5699741",
   "metadata": {},
   "source": [
    "Plot the count of all datapoints by Basin"
   ]
  },
  {
   "cell_type": "code",
   "execution_count": 14,
   "id": "c9be8c77",
   "metadata": {},
   "outputs": [],
   "source": [
    "uni_basins = h_data['BASIN'].unique()"
   ]
  },
  {
   "cell_type": "code",
   "execution_count": 15,
   "id": "208bbb7a",
   "metadata": {},
   "outputs": [],
   "source": [
    "count_per_basin = h_data.groupby('BASIN')['NAME'].count().unique()"
   ]
  },
  {
   "cell_type": "code",
   "execution_count": 16,
   "id": "b0d5a735",
   "metadata": {},
   "outputs": [
    {
     "data": {
      "image/png": "[encoded data removed]",
      "text/plain": [
       "<Figure size 432x288 with 1 Axes>"
      ]
     },
     "metadata": {
      "needs_background": "light"
     },
     "output_type": "display_data"
    }
   ],
   "source": [
    "plt.bar(uni_basins, count_per_basin)\n",
    "plt.title('unique hurricanes per basin');"
   ]
  },
  {
   "cell_type": "code",
   "execution_count": 17,
   "id": "0ded1f33",
   "metadata": {},
   "outputs": [],
   "source": [
    "unique_by_basin = h_data.groupby('NAME')['BASIN'].count().unique()"
   ]
  },
  {
   "cell_type": "code",
   "execution_count": 18,
   "id": "8bc442f1",
   "metadata": {},
   "outputs": [
    {
     "name": "stdout",
     "output_type": "stream",
     "text": [
      "[   9   94  642  164  123   65   69  238  300  205   43   91  169   40\n",
      "  119   87   77  222  268  265  454  121  106 1582  140  160   29   57\n",
      "   71   18   56  244   95  145   39  114  409  635  117   93   51   21\n",
      "  139  189 1519   83   41   53   63  273   78  232  109  538  105  166\n",
      "  151  201  148  113   49  186  173   54   62   72 1109    3  102  550\n",
      "   73  103  100  107   25  369  128   89  295   27  549  228  112  581\n",
      "   55  272  319  277  161  419   82   33  633   15   99  490   79  197\n",
      "  292   98  343   81  234   23  414   59  332  224  200  780   45  370\n",
      "  271  266   67  215  249  240  472  196  253   97   75  157  236  261\n",
      "  115   61  825   80  634 1090  133  101  233  175  645  158 1351  341\n",
      "  194   84  427  683  260   11  153  163  576  191  311  393  155  135\n",
      "  340  137   37   85  595  138  223  425   35  521  297  264  282  131\n",
      "  211  143  129  281   47  162  270  116   38  872 1392  567   86  193\n",
      "  246  125  464   74  329  710   10  118  359  168  410  126  402  291\n",
      "  314  392  389  127  334  288  580  147  212  150  130  540 1259  136\n",
      "  476  463  412  187  302  361  704  284  680  310   46  445  146  315\n",
      "  154  176  141  278  624  484   13  443  514   34   22  353  206  406\n",
      "  349  195  229  962  397  572  501  170 1138  104  672  520  313  333\n",
      "   14 1174  437  881 1132  453  255  258   68  429   60   88  448  943\n",
      "  167  111  415  259  534 1043  251  434 1325   66  615 1136  283  239\n",
      "  358  289  380  729  403  110  256  303  405   36   28  346  428  441\n",
      "  509   17  356  318  421 1514   64  479   19  208  733  243   70  386\n",
      "    7  247  978  967  177  325  557  835  362   52  789  320  390  810\n",
      "  522 1272  178   76  159  486  134  312  218  485  387  650  788  762\n",
      "  262  171  368  352  122   96  982  438  339  172  763  532 1264  779\n",
      " 1164  541  108  616  309  378  316  324  417  416  165  230  938  471\n",
      "  466  608 1116  741  226  267  305  382  652  210  667  685  450  217\n",
      " 1249  124  308  199  518 1587  299  245  435  529  156  181  293   50\n",
      "  558 1221 1532  505  391  383  235  413  328  388  338  363  696  909\n",
      "  354   16  815  142  348  188  174   92  611 1114  185   31  848  331\n",
      "  455  394 1459  459  304 1108  213  184  183  317 1292  940  241  296\n",
      "  488  517  552  400  875  250  280 1178  192  531  326  500  276  374\n",
      "  322  335  496  248  843   90  674 1352   48  883  364  547  132  901\n",
      "  204  221  120 1276  926  152    1  237  182  227  219  350   30  790\n",
      "  257  225 1159  202  180  231  480 1157  220 1038  396  347  179  198\n",
      "  294  568 1161  792  621  190  306  864  915  535  544  242  470  947\n",
      "  367  599  269  451   20  971 1300  372 1283  446  508  796  961 1193\n",
      "  951  207 1482  252  285  831  274  287  461 1077   58  144  988 1037\n",
      "  336  503 1024  149  554 1020  494  575  694  574  298  900 1015  671\n",
      "  323   26]\n"
     ]
    }
   ],
   "source": [
    "print(unique_by_basin)"
   ]
  },
  {
   "cell_type": "code",
   "execution_count": 19,
   "id": "40c89628",
   "metadata": {
    "scrolled": true
   },
   "outputs": [
    {
     "data": {
      "text/plain": [
       "548"
      ]
     },
     "execution_count": 19,
     "metadata": {},
     "output_type": "execute_result"
    }
   ],
   "source": [
    "len(unique_by_basin)"
   ]
  },
  {
   "cell_type": "markdown",
   "id": "602fd2a5",
   "metadata": {},
   "source": [
    "\n",
    "hexbin of the location of datapoints in Latitude and Longitude"
   ]
  },
  {
   "cell_type": "code",
   "execution_count": 20,
   "id": "0e44ccf1",
   "metadata": {},
   "outputs": [
    {
     "data": {
      "text/plain": [
       "\"ax.set_xlabel('LAT')\\nax.set_ylabel('LON')\""
      ]
     },
     "execution_count": 20,
     "metadata": {},
     "output_type": "execute_result"
    },
    {
     "data": {
      "image/png": "[encoded data removed]",
      "text/plain": [
       "<Figure size 432x288 with 2 Axes>"
      ]
     },
     "metadata": {
      "needs_background": "light"
     },
     "output_type": "display_data"
    }
   ],
   "source": [
    "#ax = \n",
    "h_data.plot.hexbin('LAT', 'LON', gridsize=30);\n",
    "\n",
    "\n",
    "\"\"\"ax.set_xlabel('LAT')\n",
    "ax.set_ylabel('LON')\"\"\""
   ]
  },
  {
   "cell_type": "markdown",
   "id": "38d016be",
   "metadata": {},
   "source": [
    "simple hexbin with matplotlib"
   ]
  },
  {
   "cell_type": "code",
   "execution_count": 21,
   "id": "29920a67",
   "metadata": {
    "scrolled": true
   },
   "outputs": [
    {
     "data": {
      "text/plain": [
       "<matplotlib.collections.PolyCollection at 0x7f712aa6e370>"
      ]
     },
     "execution_count": 21,
     "metadata": {},
     "output_type": "execute_result"
    },
    {
     "data": {
      "image/png": "[encoded data removed]",
      "text/plain": [
       "<Figure size 432x288 with 1 Axes>"
      ]
     },
     "metadata": {
      "needs_background": "light"
     },
     "output_type": "display_data"
    }
   ],
   "source": [
    "plt.hexbin(h_data['LAT'], h_data['LON'], bins=10)"
   ]
  },
  {
   "cell_type": "markdown",
   "id": "dacc538d",
   "metadata": {},
   "source": [
    "Find Hurricane Katrina (from 2005) and plot its track as a scatter plot"
   ]
  },
  {
   "cell_type": "code",
   "execution_count": 47,
   "id": "344e1b79",
   "metadata": {},
   "outputs": [],
   "source": [
    "gb = h_data.groupby('NAME')"
   ]
  },
  {
   "cell_type": "code",
   "execution_count": 48,
   "id": "50272627",
   "metadata": {},
   "outputs": [],
   "source": [
    "gr_gb = gb.groups"
   ]
  },
  {
   "cell_type": "code",
   "execution_count": 76,
   "id": "fa9028d5",
   "metadata": {},
   "outputs": [
    {
     "data": {
      "text/html": [
       "<div>\n",
       "<style scoped>\n",
       "    .dataframe tbody tr th:only-of-type {\n",
       "        vertical-align: middle;\n",
       "    }\n",
       "\n",
       "    .dataframe tbody tr th {\n",
       "        vertical-align: top;\n",
       "    }\n",
       "\n",
       "    .dataframe thead th {\n",
       "        text-align: right;\n",
       "    }\n",
       "</style>\n",
       "<table border=\"1\" class=\"dataframe\">\n",
       "  <thead>\n",
       "    <tr style=\"text-align: right;\">\n",
       "      <th></th>\n",
       "      <th>SID</th>\n",
       "      <th>SEASON</th>\n",
       "      <th>NUMBER</th>\n",
       "      <th>BASIN</th>\n",
       "      <th>SUBBASIN</th>\n",
       "      <th>NAME</th>\n",
       "      <th>ISO_TIME</th>\n",
       "      <th>NATURE</th>\n",
       "      <th>LAT</th>\n",
       "      <th>LON</th>\n",
       "      <th>WIND</th>\n",
       "      <th>PRES</th>\n",
       "    </tr>\n",
       "  </thead>\n",
       "  <tbody>\n",
       "    <tr>\n",
       "      <th>332525</th>\n",
       "      <td>1967242N18253</td>\n",
       "      <td>1967</td>\n",
       "      <td>86</td>\n",
       "      <td>EP</td>\n",
       "      <td>MM</td>\n",
       "      <td>KATRINA</td>\n",
       "      <td>1967-08-30 00:00:00</td>\n",
       "      <td>TS</td>\n",
       "      <td>17.8000</td>\n",
       "      <td>-107.2000</td>\n",
       "      <td>45.0</td>\n",
       "      <td>NaN</td>\n",
       "    </tr>\n",
       "    <tr>\n",
       "      <th>332526</th>\n",
       "      <td>1967242N18253</td>\n",
       "      <td>1967</td>\n",
       "      <td>86</td>\n",
       "      <td>EP</td>\n",
       "      <td>MM</td>\n",
       "      <td>KATRINA</td>\n",
       "      <td>1967-08-30 03:00:00</td>\n",
       "      <td>TS</td>\n",
       "      <td>17.9859</td>\n",
       "      <td>-107.5960</td>\n",
       "      <td>NaN</td>\n",
       "      <td>NaN</td>\n",
       "    </tr>\n",
       "    <tr>\n",
       "      <th>332527</th>\n",
       "      <td>1967242N18253</td>\n",
       "      <td>1967</td>\n",
       "      <td>86</td>\n",
       "      <td>EP</td>\n",
       "      <td>MM</td>\n",
       "      <td>KATRINA</td>\n",
       "      <td>1967-08-30 06:00:00</td>\n",
       "      <td>TS</td>\n",
       "      <td>18.2120</td>\n",
       "      <td>-107.9900</td>\n",
       "      <td>45.0</td>\n",
       "      <td>NaN</td>\n",
       "    </tr>\n",
       "    <tr>\n",
       "      <th>332528</th>\n",
       "      <td>1967242N18253</td>\n",
       "      <td>1967</td>\n",
       "      <td>86</td>\n",
       "      <td>EP</td>\n",
       "      <td>MM</td>\n",
       "      <td>KATRINA</td>\n",
       "      <td>1967-08-30 09:00:00</td>\n",
       "      <td>TS</td>\n",
       "      <td>18.5131</td>\n",
       "      <td>-108.3860</td>\n",
       "      <td>NaN</td>\n",
       "      <td>NaN</td>\n",
       "    </tr>\n",
       "    <tr>\n",
       "      <th>332529</th>\n",
       "      <td>1967242N18253</td>\n",
       "      <td>1967</td>\n",
       "      <td>86</td>\n",
       "      <td>EP</td>\n",
       "      <td>MM</td>\n",
       "      <td>KATRINA</td>\n",
       "      <td>1967-08-30 12:00:00</td>\n",
       "      <td>TS</td>\n",
       "      <td>18.9000</td>\n",
       "      <td>-108.8000</td>\n",
       "      <td>45.0</td>\n",
       "      <td>NaN</td>\n",
       "    </tr>\n",
       "    <tr>\n",
       "      <th>...</th>\n",
       "      <td>...</td>\n",
       "      <td>...</td>\n",
       "      <td>...</td>\n",
       "      <td>...</td>\n",
       "      <td>...</td>\n",
       "      <td>...</td>\n",
       "      <td>...</td>\n",
       "      <td>...</td>\n",
       "      <td>...</td>\n",
       "      <td>...</td>\n",
       "      <td>...</td>\n",
       "      <td>...</td>\n",
       "    </tr>\n",
       "    <tr>\n",
       "      <th>604198</th>\n",
       "      <td>2005236N23285</td>\n",
       "      <td>2005</td>\n",
       "      <td>61</td>\n",
       "      <td>NA</td>\n",
       "      <td>NA</td>\n",
       "      <td>KATRINA</td>\n",
       "      <td>2005-08-30 18:00:00</td>\n",
       "      <td>TS</td>\n",
       "      <td>37.0000</td>\n",
       "      <td>-87.0000</td>\n",
       "      <td>30.0</td>\n",
       "      <td>990.0</td>\n",
       "    </tr>\n",
       "    <tr>\n",
       "      <th>604199</th>\n",
       "      <td>2005236N23285</td>\n",
       "      <td>2005</td>\n",
       "      <td>61</td>\n",
       "      <td>NA</td>\n",
       "      <td>NA</td>\n",
       "      <td>KATRINA</td>\n",
       "      <td>2005-08-30 21:00:00</td>\n",
       "      <td>TS</td>\n",
       "      <td>37.7916</td>\n",
       "      <td>-86.2537</td>\n",
       "      <td>NaN</td>\n",
       "      <td>NaN</td>\n",
       "    </tr>\n",
       "    <tr>\n",
       "      <th>604200</th>\n",
       "      <td>2005236N23285</td>\n",
       "      <td>2005</td>\n",
       "      <td>61</td>\n",
       "      <td>NA</td>\n",
       "      <td>NA</td>\n",
       "      <td>KATRINA</td>\n",
       "      <td>2005-08-31 00:00:00</td>\n",
       "      <td>ET</td>\n",
       "      <td>38.6000</td>\n",
       "      <td>-85.3000</td>\n",
       "      <td>30.0</td>\n",
       "      <td>994.0</td>\n",
       "    </tr>\n",
       "    <tr>\n",
       "      <th>604201</th>\n",
       "      <td>2005236N23285</td>\n",
       "      <td>2005</td>\n",
       "      <td>61</td>\n",
       "      <td>NA</td>\n",
       "      <td>NA</td>\n",
       "      <td>KATRINA</td>\n",
       "      <td>2005-08-31 03:00:00</td>\n",
       "      <td>ET</td>\n",
       "      <td>39.3681</td>\n",
       "      <td>-84.1578</td>\n",
       "      <td>NaN</td>\n",
       "      <td>NaN</td>\n",
       "    </tr>\n",
       "    <tr>\n",
       "      <th>604202</th>\n",
       "      <td>2005236N23285</td>\n",
       "      <td>2005</td>\n",
       "      <td>61</td>\n",
       "      <td>NA</td>\n",
       "      <td>NA</td>\n",
       "      <td>KATRINA</td>\n",
       "      <td>2005-08-31 06:00:00</td>\n",
       "      <td>ET</td>\n",
       "      <td>40.1000</td>\n",
       "      <td>-82.9000</td>\n",
       "      <td>25.0</td>\n",
       "      <td>996.0</td>\n",
       "    </tr>\n",
       "  </tbody>\n",
       "</table>\n",
       "<p>534 rows × 12 columns</p>\n",
       "</div>"
      ],
      "text/plain": [
       "                  SID  SEASON  NUMBER BASIN SUBBASIN     NAME  \\\n",
       "332525  1967242N18253    1967      86    EP       MM  KATRINA   \n",
       "332526  1967242N18253    1967      86    EP       MM  KATRINA   \n",
       "332527  1967242N18253    1967      86    EP       MM  KATRINA   \n",
       "332528  1967242N18253    1967      86    EP       MM  KATRINA   \n",
       "332529  1967242N18253    1967      86    EP       MM  KATRINA   \n",
       "...               ...     ...     ...   ...      ...      ...   \n",
       "604198  2005236N23285    2005      61    NA       NA  KATRINA   \n",
       "604199  2005236N23285    2005      61    NA       NA  KATRINA   \n",
       "604200  2005236N23285    2005      61    NA       NA  KATRINA   \n",
       "604201  2005236N23285    2005      61    NA       NA  KATRINA   \n",
       "604202  2005236N23285    2005      61    NA       NA  KATRINA   \n",
       "\n",
       "                  ISO_TIME NATURE      LAT       LON  WIND   PRES  \n",
       "332525 1967-08-30 00:00:00     TS  17.8000 -107.2000  45.0    NaN  \n",
       "332526 1967-08-30 03:00:00     TS  17.9859 -107.5960   NaN    NaN  \n",
       "332527 1967-08-30 06:00:00     TS  18.2120 -107.9900  45.0    NaN  \n",
       "332528 1967-08-30 09:00:00     TS  18.5131 -108.3860   NaN    NaN  \n",
       "332529 1967-08-30 12:00:00     TS  18.9000 -108.8000  45.0    NaN  \n",
       "...                    ...    ...      ...       ...   ...    ...  \n",
       "604198 2005-08-30 18:00:00     TS  37.0000  -87.0000  30.0  990.0  \n",
       "604199 2005-08-30 21:00:00     TS  37.7916  -86.2537   NaN    NaN  \n",
       "604200 2005-08-31 00:00:00     ET  38.6000  -85.3000  30.0  994.0  \n",
       "604201 2005-08-31 03:00:00     ET  39.3681  -84.1578   NaN    NaN  \n",
       "604202 2005-08-31 06:00:00     ET  40.1000  -82.9000  25.0  996.0  \n",
       "\n",
       "[534 rows x 12 columns]"
      ]
     },
     "execution_count": 76,
     "metadata": {},
     "output_type": "execute_result"
    }
   ],
   "source": [
    "katri = gb.get_group('KATRINA')\n",
    "katri"
   ]
  },
  {
   "cell_type": "code",
   "execution_count": 83,
   "id": "e08afe9f",
   "metadata": {},
   "outputs": [],
   "source": [
    "katri_2005 = katri.groupby('SID').groups"
   ]
  },
  {
   "cell_type": "code",
   "execution_count": 84,
   "id": "caa14259",
   "metadata": {},
   "outputs": [],
   "source": [
    "gb = h_data.groupby('SID')"
   ]
  },
  {
   "cell_type": "code",
   "execution_count": 85,
   "id": "540cdc18",
   "metadata": {},
   "outputs": [],
   "source": [
    "gr_gb = gb.groups"
   ]
  },
  {
   "cell_type": "code",
   "execution_count": 87,
   "id": "0ae21abd",
   "metadata": {},
   "outputs": [
    {
     "data": {
      "text/html": [
       "<div>\n",
       "<style scoped>\n",
       "    .dataframe tbody tr th:only-of-type {\n",
       "        vertical-align: middle;\n",
       "    }\n",
       "\n",
       "    .dataframe tbody tr th {\n",
       "        vertical-align: top;\n",
       "    }\n",
       "\n",
       "    .dataframe thead th {\n",
       "        text-align: right;\n",
       "    }\n",
       "</style>\n",
       "<table border=\"1\" class=\"dataframe\">\n",
       "  <thead>\n",
       "    <tr style=\"text-align: right;\">\n",
       "      <th></th>\n",
       "      <th>SID</th>\n",
       "      <th>SEASON</th>\n",
       "      <th>NUMBER</th>\n",
       "      <th>BASIN</th>\n",
       "      <th>SUBBASIN</th>\n",
       "      <th>NAME</th>\n",
       "      <th>ISO_TIME</th>\n",
       "      <th>NATURE</th>\n",
       "      <th>LAT</th>\n",
       "      <th>LON</th>\n",
       "      <th>WIND</th>\n",
       "      <th>PRES</th>\n",
       "    </tr>\n",
       "  </thead>\n",
       "  <tbody>\n",
       "    <tr>\n",
       "      <th>604139</th>\n",
       "      <td>2005236N23285</td>\n",
       "      <td>2005</td>\n",
       "      <td>61</td>\n",
       "      <td>NA</td>\n",
       "      <td>NA</td>\n",
       "      <td>KATRINA</td>\n",
       "      <td>2005-08-23 18:00:00</td>\n",
       "      <td>TS</td>\n",
       "      <td>23.1000</td>\n",
       "      <td>-75.1000</td>\n",
       "      <td>30.0</td>\n",
       "      <td>1008.0</td>\n",
       "    </tr>\n",
       "    <tr>\n",
       "      <th>604140</th>\n",
       "      <td>2005236N23285</td>\n",
       "      <td>2005</td>\n",
       "      <td>61</td>\n",
       "      <td>NA</td>\n",
       "      <td>NA</td>\n",
       "      <td>KATRINA</td>\n",
       "      <td>2005-08-23 21:00:00</td>\n",
       "      <td>TS</td>\n",
       "      <td>23.2476</td>\n",
       "      <td>-75.4049</td>\n",
       "      <td>NaN</td>\n",
       "      <td>NaN</td>\n",
       "    </tr>\n",
       "    <tr>\n",
       "      <th>604141</th>\n",
       "      <td>2005236N23285</td>\n",
       "      <td>2005</td>\n",
       "      <td>61</td>\n",
       "      <td>NA</td>\n",
       "      <td>NA</td>\n",
       "      <td>KATRINA</td>\n",
       "      <td>2005-08-24 00:00:00</td>\n",
       "      <td>TS</td>\n",
       "      <td>23.4000</td>\n",
       "      <td>-75.7000</td>\n",
       "      <td>30.0</td>\n",
       "      <td>1007.0</td>\n",
       "    </tr>\n",
       "    <tr>\n",
       "      <th>604142</th>\n",
       "      <td>2005236N23285</td>\n",
       "      <td>2005</td>\n",
       "      <td>61</td>\n",
       "      <td>NA</td>\n",
       "      <td>NA</td>\n",
       "      <td>KATRINA</td>\n",
       "      <td>2005-08-24 03:00:00</td>\n",
       "      <td>TS</td>\n",
       "      <td>23.5700</td>\n",
       "      <td>-75.9726</td>\n",
       "      <td>NaN</td>\n",
       "      <td>NaN</td>\n",
       "    </tr>\n",
       "    <tr>\n",
       "      <th>604143</th>\n",
       "      <td>2005236N23285</td>\n",
       "      <td>2005</td>\n",
       "      <td>61</td>\n",
       "      <td>NA</td>\n",
       "      <td>NA</td>\n",
       "      <td>KATRINA</td>\n",
       "      <td>2005-08-24 06:00:00</td>\n",
       "      <td>TS</td>\n",
       "      <td>23.8000</td>\n",
       "      <td>-76.2000</td>\n",
       "      <td>30.0</td>\n",
       "      <td>1007.0</td>\n",
       "    </tr>\n",
       "    <tr>\n",
       "      <th>...</th>\n",
       "      <td>...</td>\n",
       "      <td>...</td>\n",
       "      <td>...</td>\n",
       "      <td>...</td>\n",
       "      <td>...</td>\n",
       "      <td>...</td>\n",
       "      <td>...</td>\n",
       "      <td>...</td>\n",
       "      <td>...</td>\n",
       "      <td>...</td>\n",
       "      <td>...</td>\n",
       "      <td>...</td>\n",
       "    </tr>\n",
       "    <tr>\n",
       "      <th>604198</th>\n",
       "      <td>2005236N23285</td>\n",
       "      <td>2005</td>\n",
       "      <td>61</td>\n",
       "      <td>NA</td>\n",
       "      <td>NA</td>\n",
       "      <td>KATRINA</td>\n",
       "      <td>2005-08-30 18:00:00</td>\n",
       "      <td>TS</td>\n",
       "      <td>37.0000</td>\n",
       "      <td>-87.0000</td>\n",
       "      <td>30.0</td>\n",
       "      <td>990.0</td>\n",
       "    </tr>\n",
       "    <tr>\n",
       "      <th>604199</th>\n",
       "      <td>2005236N23285</td>\n",
       "      <td>2005</td>\n",
       "      <td>61</td>\n",
       "      <td>NA</td>\n",
       "      <td>NA</td>\n",
       "      <td>KATRINA</td>\n",
       "      <td>2005-08-30 21:00:00</td>\n",
       "      <td>TS</td>\n",
       "      <td>37.7916</td>\n",
       "      <td>-86.2537</td>\n",
       "      <td>NaN</td>\n",
       "      <td>NaN</td>\n",
       "    </tr>\n",
       "    <tr>\n",
       "      <th>604200</th>\n",
       "      <td>2005236N23285</td>\n",
       "      <td>2005</td>\n",
       "      <td>61</td>\n",
       "      <td>NA</td>\n",
       "      <td>NA</td>\n",
       "      <td>KATRINA</td>\n",
       "      <td>2005-08-31 00:00:00</td>\n",
       "      <td>ET</td>\n",
       "      <td>38.6000</td>\n",
       "      <td>-85.3000</td>\n",
       "      <td>30.0</td>\n",
       "      <td>994.0</td>\n",
       "    </tr>\n",
       "    <tr>\n",
       "      <th>604201</th>\n",
       "      <td>2005236N23285</td>\n",
       "      <td>2005</td>\n",
       "      <td>61</td>\n",
       "      <td>NA</td>\n",
       "      <td>NA</td>\n",
       "      <td>KATRINA</td>\n",
       "      <td>2005-08-31 03:00:00</td>\n",
       "      <td>ET</td>\n",
       "      <td>39.3681</td>\n",
       "      <td>-84.1578</td>\n",
       "      <td>NaN</td>\n",
       "      <td>NaN</td>\n",
       "    </tr>\n",
       "    <tr>\n",
       "      <th>604202</th>\n",
       "      <td>2005236N23285</td>\n",
       "      <td>2005</td>\n",
       "      <td>61</td>\n",
       "      <td>NA</td>\n",
       "      <td>NA</td>\n",
       "      <td>KATRINA</td>\n",
       "      <td>2005-08-31 06:00:00</td>\n",
       "      <td>ET</td>\n",
       "      <td>40.1000</td>\n",
       "      <td>-82.9000</td>\n",
       "      <td>25.0</td>\n",
       "      <td>996.0</td>\n",
       "    </tr>\n",
       "  </tbody>\n",
       "</table>\n",
       "<p>64 rows × 12 columns</p>\n",
       "</div>"
      ],
      "text/plain": [
       "                  SID  SEASON  NUMBER BASIN SUBBASIN     NAME  \\\n",
       "604139  2005236N23285    2005      61    NA       NA  KATRINA   \n",
       "604140  2005236N23285    2005      61    NA       NA  KATRINA   \n",
       "604141  2005236N23285    2005      61    NA       NA  KATRINA   \n",
       "604142  2005236N23285    2005      61    NA       NA  KATRINA   \n",
       "604143  2005236N23285    2005      61    NA       NA  KATRINA   \n",
       "...               ...     ...     ...   ...      ...      ...   \n",
       "604198  2005236N23285    2005      61    NA       NA  KATRINA   \n",
       "604199  2005236N23285    2005      61    NA       NA  KATRINA   \n",
       "604200  2005236N23285    2005      61    NA       NA  KATRINA   \n",
       "604201  2005236N23285    2005      61    NA       NA  KATRINA   \n",
       "604202  2005236N23285    2005      61    NA       NA  KATRINA   \n",
       "\n",
       "                  ISO_TIME NATURE      LAT      LON  WIND    PRES  \n",
       "604139 2005-08-23 18:00:00     TS  23.1000 -75.1000  30.0  1008.0  \n",
       "604140 2005-08-23 21:00:00     TS  23.2476 -75.4049   NaN     NaN  \n",
       "604141 2005-08-24 00:00:00     TS  23.4000 -75.7000  30.0  1007.0  \n",
       "604142 2005-08-24 03:00:00     TS  23.5700 -75.9726   NaN     NaN  \n",
       "604143 2005-08-24 06:00:00     TS  23.8000 -76.2000  30.0  1007.0  \n",
       "...                    ...    ...      ...      ...   ...     ...  \n",
       "604198 2005-08-30 18:00:00     TS  37.0000 -87.0000  30.0   990.0  \n",
       "604199 2005-08-30 21:00:00     TS  37.7916 -86.2537   NaN     NaN  \n",
       "604200 2005-08-31 00:00:00     ET  38.6000 -85.3000  30.0   994.0  \n",
       "604201 2005-08-31 03:00:00     ET  39.3681 -84.1578   NaN     NaN  \n",
       "604202 2005-08-31 06:00:00     ET  40.1000 -82.9000  25.0   996.0  \n",
       "\n",
       "[64 rows x 12 columns]"
      ]
     },
     "execution_count": 87,
     "metadata": {},
     "output_type": "execute_result"
    }
   ],
   "source": [
    "katri_2005 = gb.get_group('2005236N23285')\n",
    "katri_2005"
   ]
  },
  {
   "cell_type": "code",
   "execution_count": 100,
   "id": "6d9826e2",
   "metadata": {},
   "outputs": [
    {
     "data": {
      "image/png": "[encoded data removed]",
      "text/plain": [
       "<Figure size 432x288 with 2 Axes>"
      ]
     },
     "metadata": {
      "needs_background": "light"
     },
     "output_type": "display_data"
    }
   ],
   "source": [
    "#scatter plot of the locations of katrina (2005) color of dots and size in propotion to magnitude at the location\n",
    "\n",
    "plt.scatter(katri_2005['LAT'], katri_2005['LON'], c=katri_2005['WIND'], s=katri_2005['WIND'])\n",
    "plt.colorbar()\n",
    "plt.title('track of katrina as scatter plot. size and colorbar in scale with magnitude of wind at the location');"
   ]
  },
  {
   "cell_type": "markdown",
   "id": "0bdc487b",
   "metadata": {},
   "source": [
    "### Setting Time as the index on the original dataframe"
   ]
  },
  {
   "cell_type": "code",
   "execution_count": 102,
   "id": "60d31a82",
   "metadata": {},
   "outputs": [],
   "source": [
    "dta_reindx = h_data.set_index('ISO_TIME')"
   ]
  },
  {
   "cell_type": "code",
   "execution_count": 103,
   "id": "8c094987",
   "metadata": {},
   "outputs": [
    {
     "data": {
      "text/html": [
       "<div>\n",
       "<style scoped>\n",
       "    .dataframe tbody tr th:only-of-type {\n",
       "        vertical-align: middle;\n",
       "    }\n",
       "\n",
       "    .dataframe tbody tr th {\n",
       "        vertical-align: top;\n",
       "    }\n",
       "\n",
       "    .dataframe thead th {\n",
       "        text-align: right;\n",
       "    }\n",
       "</style>\n",
       "<table border=\"1\" class=\"dataframe\">\n",
       "  <thead>\n",
       "    <tr style=\"text-align: right;\">\n",
       "      <th></th>\n",
       "      <th>SID</th>\n",
       "      <th>SEASON</th>\n",
       "      <th>NUMBER</th>\n",
       "      <th>BASIN</th>\n",
       "      <th>SUBBASIN</th>\n",
       "      <th>NAME</th>\n",
       "      <th>NATURE</th>\n",
       "      <th>LAT</th>\n",
       "      <th>LON</th>\n",
       "      <th>WIND</th>\n",
       "      <th>PRES</th>\n",
       "    </tr>\n",
       "    <tr>\n",
       "      <th>ISO_TIME</th>\n",
       "      <th></th>\n",
       "      <th></th>\n",
       "      <th></th>\n",
       "      <th></th>\n",
       "      <th></th>\n",
       "      <th></th>\n",
       "      <th></th>\n",
       "      <th></th>\n",
       "      <th></th>\n",
       "      <th></th>\n",
       "      <th></th>\n",
       "    </tr>\n",
       "  </thead>\n",
       "  <tbody>\n",
       "    <tr>\n",
       "      <th>1842-10-25 03:00:00</th>\n",
       "      <td>1842298N11080</td>\n",
       "      <td>1842</td>\n",
       "      <td>1</td>\n",
       "      <td>NI</td>\n",
       "      <td>BB</td>\n",
       "      <td>NaN</td>\n",
       "      <td>NR</td>\n",
       "      <td>10.9000</td>\n",
       "      <td>80.3000</td>\n",
       "      <td>NaN</td>\n",
       "      <td>NaN</td>\n",
       "    </tr>\n",
       "    <tr>\n",
       "      <th>1842-10-25 06:00:00</th>\n",
       "      <td>1842298N11080</td>\n",
       "      <td>1842</td>\n",
       "      <td>1</td>\n",
       "      <td>NI</td>\n",
       "      <td>BB</td>\n",
       "      <td>NaN</td>\n",
       "      <td>NR</td>\n",
       "      <td>10.8709</td>\n",
       "      <td>79.8265</td>\n",
       "      <td>NaN</td>\n",
       "      <td>NaN</td>\n",
       "    </tr>\n",
       "    <tr>\n",
       "      <th>1842-10-25 09:00:00</th>\n",
       "      <td>1842298N11080</td>\n",
       "      <td>1842</td>\n",
       "      <td>1</td>\n",
       "      <td>NI</td>\n",
       "      <td>BB</td>\n",
       "      <td>NaN</td>\n",
       "      <td>NR</td>\n",
       "      <td>10.8431</td>\n",
       "      <td>79.3524</td>\n",
       "      <td>NaN</td>\n",
       "      <td>NaN</td>\n",
       "    </tr>\n",
       "    <tr>\n",
       "      <th>1842-10-25 12:00:00</th>\n",
       "      <td>1842298N11080</td>\n",
       "      <td>1842</td>\n",
       "      <td>1</td>\n",
       "      <td>NI</td>\n",
       "      <td>BB</td>\n",
       "      <td>NaN</td>\n",
       "      <td>NR</td>\n",
       "      <td>10.8188</td>\n",
       "      <td>78.8772</td>\n",
       "      <td>NaN</td>\n",
       "      <td>NaN</td>\n",
       "    </tr>\n",
       "    <tr>\n",
       "      <th>1842-10-25 15:00:00</th>\n",
       "      <td>1842298N11080</td>\n",
       "      <td>1842</td>\n",
       "      <td>1</td>\n",
       "      <td>NI</td>\n",
       "      <td>BB</td>\n",
       "      <td>NaN</td>\n",
       "      <td>NR</td>\n",
       "      <td>10.8000</td>\n",
       "      <td>78.4000</td>\n",
       "      <td>NaN</td>\n",
       "      <td>NaN</td>\n",
       "    </tr>\n",
       "    <tr>\n",
       "      <th>...</th>\n",
       "      <td>...</td>\n",
       "      <td>...</td>\n",
       "      <td>...</td>\n",
       "      <td>...</td>\n",
       "      <td>...</td>\n",
       "      <td>...</td>\n",
       "      <td>...</td>\n",
       "      <td>...</td>\n",
       "      <td>...</td>\n",
       "      <td>...</td>\n",
       "      <td>...</td>\n",
       "    </tr>\n",
       "    <tr>\n",
       "      <th>2022-03-16 06:00:00</th>\n",
       "      <td>2022073S14103</td>\n",
       "      <td>2022</td>\n",
       "      <td>17</td>\n",
       "      <td>SI</td>\n",
       "      <td>WA</td>\n",
       "      <td>BILLY</td>\n",
       "      <td>NR</td>\n",
       "      <td>-18.1000</td>\n",
       "      <td>93.6000</td>\n",
       "      <td>NaN</td>\n",
       "      <td>NaN</td>\n",
       "    </tr>\n",
       "    <tr>\n",
       "      <th>2022-03-16 09:00:00</th>\n",
       "      <td>2022073S14103</td>\n",
       "      <td>2022</td>\n",
       "      <td>17</td>\n",
       "      <td>SI</td>\n",
       "      <td>WA</td>\n",
       "      <td>BILLY</td>\n",
       "      <td>NR</td>\n",
       "      <td>-18.5774</td>\n",
       "      <td>93.1980</td>\n",
       "      <td>NaN</td>\n",
       "      <td>NaN</td>\n",
       "    </tr>\n",
       "    <tr>\n",
       "      <th>2022-03-16 12:00:00</th>\n",
       "      <td>2022073S14103</td>\n",
       "      <td>2022</td>\n",
       "      <td>17</td>\n",
       "      <td>SI</td>\n",
       "      <td>WA</td>\n",
       "      <td>BILLY</td>\n",
       "      <td>NR</td>\n",
       "      <td>-19.1000</td>\n",
       "      <td>92.9000</td>\n",
       "      <td>NaN</td>\n",
       "      <td>NaN</td>\n",
       "    </tr>\n",
       "    <tr>\n",
       "      <th>2022-03-16 15:00:00</th>\n",
       "      <td>2022073S14103</td>\n",
       "      <td>2022</td>\n",
       "      <td>17</td>\n",
       "      <td>SI</td>\n",
       "      <td>WA</td>\n",
       "      <td>BILLY</td>\n",
       "      <td>NR</td>\n",
       "      <td>-19.4200</td>\n",
       "      <td>92.7172</td>\n",
       "      <td>NaN</td>\n",
       "      <td>NaN</td>\n",
       "    </tr>\n",
       "    <tr>\n",
       "      <th>2022-03-16 18:00:00</th>\n",
       "      <td>2022073S14103</td>\n",
       "      <td>2022</td>\n",
       "      <td>17</td>\n",
       "      <td>SI</td>\n",
       "      <td>WA</td>\n",
       "      <td>BILLY</td>\n",
       "      <td>NR</td>\n",
       "      <td>-19.6000</td>\n",
       "      <td>92.6000</td>\n",
       "      <td>NaN</td>\n",
       "      <td>NaN</td>\n",
       "    </tr>\n",
       "  </tbody>\n",
       "</table>\n",
       "<p>705009 rows × 11 columns</p>\n",
       "</div>"
      ],
      "text/plain": [
       "                               SID  SEASON  NUMBER BASIN SUBBASIN   NAME  \\\n",
       "ISO_TIME                                                                   \n",
       "1842-10-25 03:00:00  1842298N11080    1842       1    NI       BB    NaN   \n",
       "1842-10-25 06:00:00  1842298N11080    1842       1    NI       BB    NaN   \n",
       "1842-10-25 09:00:00  1842298N11080    1842       1    NI       BB    NaN   \n",
       "1842-10-25 12:00:00  1842298N11080    1842       1    NI       BB    NaN   \n",
       "1842-10-25 15:00:00  1842298N11080    1842       1    NI       BB    NaN   \n",
       "...                            ...     ...     ...   ...      ...    ...   \n",
       "2022-03-16 06:00:00  2022073S14103    2022      17    SI       WA  BILLY   \n",
       "2022-03-16 09:00:00  2022073S14103    2022      17    SI       WA  BILLY   \n",
       "2022-03-16 12:00:00  2022073S14103    2022      17    SI       WA  BILLY   \n",
       "2022-03-16 15:00:00  2022073S14103    2022      17    SI       WA  BILLY   \n",
       "2022-03-16 18:00:00  2022073S14103    2022      17    SI       WA  BILLY   \n",
       "\n",
       "                    NATURE      LAT      LON  WIND  PRES  \n",
       "ISO_TIME                                                  \n",
       "1842-10-25 03:00:00     NR  10.9000  80.3000   NaN   NaN  \n",
       "1842-10-25 06:00:00     NR  10.8709  79.8265   NaN   NaN  \n",
       "1842-10-25 09:00:00     NR  10.8431  79.3524   NaN   NaN  \n",
       "1842-10-25 12:00:00     NR  10.8188  78.8772   NaN   NaN  \n",
       "1842-10-25 15:00:00     NR  10.8000  78.4000   NaN   NaN  \n",
       "...                    ...      ...      ...   ...   ...  \n",
       "2022-03-16 06:00:00     NR -18.1000  93.6000   NaN   NaN  \n",
       "2022-03-16 09:00:00     NR -18.5774  93.1980   NaN   NaN  \n",
       "2022-03-16 12:00:00     NR -19.1000  92.9000   NaN   NaN  \n",
       "2022-03-16 15:00:00     NR -19.4200  92.7172   NaN   NaN  \n",
       "2022-03-16 18:00:00     NR -19.6000  92.6000   NaN   NaN  \n",
       "\n",
       "[705009 rows x 11 columns]"
      ]
     },
     "execution_count": 103,
     "metadata": {},
     "output_type": "execute_result"
    }
   ],
   "source": [
    "dta_reindx"
   ]
  },
  {
   "cell_type": "code",
   "execution_count": 104,
   "id": "9f1c7727",
   "metadata": {},
   "outputs": [
    {
     "data": {
      "text/html": [
       "<div>\n",
       "<style scoped>\n",
       "    .dataframe tbody tr th:only-of-type {\n",
       "        vertical-align: middle;\n",
       "    }\n",
       "\n",
       "    .dataframe tbody tr th {\n",
       "        vertical-align: top;\n",
       "    }\n",
       "\n",
       "    .dataframe thead th {\n",
       "        text-align: right;\n",
       "    }\n",
       "</style>\n",
       "<table border=\"1\" class=\"dataframe\">\n",
       "  <thead>\n",
       "    <tr style=\"text-align: right;\">\n",
       "      <th></th>\n",
       "      <th>SID</th>\n",
       "      <th>NUMBER</th>\n",
       "      <th>BASIN</th>\n",
       "      <th>SUBBASIN</th>\n",
       "      <th>NAME</th>\n",
       "      <th>NATURE</th>\n",
       "      <th>LAT</th>\n",
       "      <th>LON</th>\n",
       "      <th>WIND</th>\n",
       "      <th>PRES</th>\n",
       "    </tr>\n",
       "    <tr>\n",
       "      <th>SEASON</th>\n",
       "      <th></th>\n",
       "      <th></th>\n",
       "      <th></th>\n",
       "      <th></th>\n",
       "      <th></th>\n",
       "      <th></th>\n",
       "      <th></th>\n",
       "      <th></th>\n",
       "      <th></th>\n",
       "      <th></th>\n",
       "    </tr>\n",
       "  </thead>\n",
       "  <tbody>\n",
       "    <tr>\n",
       "      <th>1842</th>\n",
       "      <td>65</td>\n",
       "      <td>65</td>\n",
       "      <td>65</td>\n",
       "      <td>65</td>\n",
       "      <td>0</td>\n",
       "      <td>65</td>\n",
       "      <td>65</td>\n",
       "      <td>65</td>\n",
       "      <td>0</td>\n",
       "      <td>0</td>\n",
       "    </tr>\n",
       "    <tr>\n",
       "      <th>1845</th>\n",
       "      <td>25</td>\n",
       "      <td>25</td>\n",
       "      <td>25</td>\n",
       "      <td>25</td>\n",
       "      <td>0</td>\n",
       "      <td>25</td>\n",
       "      <td>25</td>\n",
       "      <td>25</td>\n",
       "      <td>0</td>\n",
       "      <td>0</td>\n",
       "    </tr>\n",
       "    <tr>\n",
       "      <th>1848</th>\n",
       "      <td>340</td>\n",
       "      <td>340</td>\n",
       "      <td>340</td>\n",
       "      <td>340</td>\n",
       "      <td>0</td>\n",
       "      <td>340</td>\n",
       "      <td>340</td>\n",
       "      <td>340</td>\n",
       "      <td>0</td>\n",
       "      <td>0</td>\n",
       "    </tr>\n",
       "    <tr>\n",
       "      <th>1851</th>\n",
       "      <td>801</td>\n",
       "      <td>801</td>\n",
       "      <td>801</td>\n",
       "      <td>801</td>\n",
       "      <td>0</td>\n",
       "      <td>801</td>\n",
       "      <td>801</td>\n",
       "      <td>801</td>\n",
       "      <td>98</td>\n",
       "      <td>0</td>\n",
       "    </tr>\n",
       "    <tr>\n",
       "      <th>1852</th>\n",
       "      <td>891</td>\n",
       "      <td>891</td>\n",
       "      <td>891</td>\n",
       "      <td>891</td>\n",
       "      <td>0</td>\n",
       "      <td>891</td>\n",
       "      <td>891</td>\n",
       "      <td>891</td>\n",
       "      <td>134</td>\n",
       "      <td>1</td>\n",
       "    </tr>\n",
       "    <tr>\n",
       "      <th>...</th>\n",
       "      <td>...</td>\n",
       "      <td>...</td>\n",
       "      <td>...</td>\n",
       "      <td>...</td>\n",
       "      <td>...</td>\n",
       "      <td>...</td>\n",
       "      <td>...</td>\n",
       "      <td>...</td>\n",
       "      <td>...</td>\n",
       "      <td>...</td>\n",
       "    </tr>\n",
       "    <tr>\n",
       "      <th>2018</th>\n",
       "      <td>7198</td>\n",
       "      <td>7198</td>\n",
       "      <td>7198</td>\n",
       "      <td>7198</td>\n",
       "      <td>6848</td>\n",
       "      <td>7198</td>\n",
       "      <td>7198</td>\n",
       "      <td>7198</td>\n",
       "      <td>2987</td>\n",
       "      <td>3453</td>\n",
       "    </tr>\n",
       "    <tr>\n",
       "      <th>2019</th>\n",
       "      <td>7056</td>\n",
       "      <td>7056</td>\n",
       "      <td>7056</td>\n",
       "      <td>7056</td>\n",
       "      <td>6557</td>\n",
       "      <td>7056</td>\n",
       "      <td>7056</td>\n",
       "      <td>7056</td>\n",
       "      <td>2590</td>\n",
       "      <td>3010</td>\n",
       "    </tr>\n",
       "    <tr>\n",
       "      <th>2020</th>\n",
       "      <td>6141</td>\n",
       "      <td>6141</td>\n",
       "      <td>6141</td>\n",
       "      <td>6141</td>\n",
       "      <td>5708</td>\n",
       "      <td>6141</td>\n",
       "      <td>6141</td>\n",
       "      <td>6141</td>\n",
       "      <td>2456</td>\n",
       "      <td>2808</td>\n",
       "    </tr>\n",
       "    <tr>\n",
       "      <th>2021</th>\n",
       "      <td>5364</td>\n",
       "      <td>5364</td>\n",
       "      <td>5364</td>\n",
       "      <td>5364</td>\n",
       "      <td>5034</td>\n",
       "      <td>5364</td>\n",
       "      <td>5364</td>\n",
       "      <td>5364</td>\n",
       "      <td>0</td>\n",
       "      <td>0</td>\n",
       "    </tr>\n",
       "    <tr>\n",
       "      <th>2022</th>\n",
       "      <td>796</td>\n",
       "      <td>796</td>\n",
       "      <td>796</td>\n",
       "      <td>796</td>\n",
       "      <td>732</td>\n",
       "      <td>796</td>\n",
       "      <td>796</td>\n",
       "      <td>796</td>\n",
       "      <td>0</td>\n",
       "      <td>0</td>\n",
       "    </tr>\n",
       "  </tbody>\n",
       "</table>\n",
       "<p>175 rows × 10 columns</p>\n",
       "</div>"
      ],
      "text/plain": [
       "         SID  NUMBER  BASIN  SUBBASIN  NAME  NATURE   LAT   LON  WIND  PRES\n",
       "SEASON                                                                     \n",
       "1842      65      65     65        65     0      65    65    65     0     0\n",
       "1845      25      25     25        25     0      25    25    25     0     0\n",
       "1848     340     340    340       340     0     340   340   340     0     0\n",
       "1851     801     801    801       801     0     801   801   801    98     0\n",
       "1852     891     891    891       891     0     891   891   891   134     1\n",
       "...      ...     ...    ...       ...   ...     ...   ...   ...   ...   ...\n",
       "2018    7198    7198   7198      7198  6848    7198  7198  7198  2987  3453\n",
       "2019    7056    7056   7056      7056  6557    7056  7056  7056  2590  3010\n",
       "2020    6141    6141   6141      6141  5708    6141  6141  6141  2456  2808\n",
       "2021    5364    5364   5364      5364  5034    5364  5364  5364     0     0\n",
       "2022     796     796    796       796   732     796   796   796     0     0\n",
       "\n",
       "[175 rows x 10 columns]"
      ]
     },
     "execution_count": 104,
     "metadata": {},
     "output_type": "execute_result"
    }
   ],
   "source": [
    "dta_reindx.groupby('SEASON').count()"
   ]
  },
  {
   "cell_type": "code",
   "execution_count": 108,
   "id": "158d1e6a",
   "metadata": {},
   "outputs": [
    {
     "data": {
      "text/plain": [
       "pandas.core.indexes.datetimes.DatetimeIndex"
      ]
     },
     "execution_count": 108,
     "metadata": {},
     "output_type": "execute_result"
    }
   ],
   "source": [
    "type(dta_reindx.index)"
   ]
  },
  {
   "cell_type": "code",
   "execution_count": 124,
   "id": "39914b00",
   "metadata": {},
   "outputs": [],
   "source": [
    "#count of all datapoints per year with resampling\n",
    "\n",
    "count_of_dp = dta_reindx.resample('Y').count()"
   ]
  },
  {
   "cell_type": "code",
   "execution_count": 118,
   "id": "89c34764",
   "metadata": {},
   "outputs": [
    {
     "data": {
      "text/html": [
       "<div>\n",
       "<style scoped>\n",
       "    .dataframe tbody tr th:only-of-type {\n",
       "        vertical-align: middle;\n",
       "    }\n",
       "\n",
       "    .dataframe tbody tr th {\n",
       "        vertical-align: top;\n",
       "    }\n",
       "\n",
       "    .dataframe thead th {\n",
       "        text-align: right;\n",
       "    }\n",
       "</style>\n",
       "<table border=\"1\" class=\"dataframe\">\n",
       "  <thead>\n",
       "    <tr style=\"text-align: right;\">\n",
       "      <th></th>\n",
       "      <th>SID</th>\n",
       "      <th>SEASON</th>\n",
       "      <th>NUMBER</th>\n",
       "      <th>BASIN</th>\n",
       "      <th>SUBBASIN</th>\n",
       "      <th>NAME</th>\n",
       "      <th>NATURE</th>\n",
       "      <th>LAT</th>\n",
       "      <th>LON</th>\n",
       "      <th>WIND</th>\n",
       "      <th>PRES</th>\n",
       "    </tr>\n",
       "    <tr>\n",
       "      <th>ISO_TIME</th>\n",
       "      <th></th>\n",
       "      <th></th>\n",
       "      <th></th>\n",
       "      <th></th>\n",
       "      <th></th>\n",
       "      <th></th>\n",
       "      <th></th>\n",
       "      <th></th>\n",
       "      <th></th>\n",
       "      <th></th>\n",
       "      <th></th>\n",
       "    </tr>\n",
       "  </thead>\n",
       "  <tbody>\n",
       "    <tr>\n",
       "      <th>1842-12-31</th>\n",
       "      <td>65</td>\n",
       "      <td>65</td>\n",
       "      <td>65</td>\n",
       "      <td>65</td>\n",
       "      <td>65</td>\n",
       "      <td>0</td>\n",
       "      <td>65</td>\n",
       "      <td>65</td>\n",
       "      <td>65</td>\n",
       "      <td>0</td>\n",
       "      <td>0</td>\n",
       "    </tr>\n",
       "    <tr>\n",
       "      <th>1843-12-31</th>\n",
       "      <td>0</td>\n",
       "      <td>0</td>\n",
       "      <td>0</td>\n",
       "      <td>0</td>\n",
       "      <td>0</td>\n",
       "      <td>0</td>\n",
       "      <td>0</td>\n",
       "      <td>0</td>\n",
       "      <td>0</td>\n",
       "      <td>0</td>\n",
       "      <td>0</td>\n",
       "    </tr>\n",
       "    <tr>\n",
       "      <th>1844-12-31</th>\n",
       "      <td>0</td>\n",
       "      <td>0</td>\n",
       "      <td>0</td>\n",
       "      <td>0</td>\n",
       "      <td>0</td>\n",
       "      <td>0</td>\n",
       "      <td>0</td>\n",
       "      <td>0</td>\n",
       "      <td>0</td>\n",
       "      <td>0</td>\n",
       "      <td>0</td>\n",
       "    </tr>\n",
       "    <tr>\n",
       "      <th>1845-12-31</th>\n",
       "      <td>25</td>\n",
       "      <td>25</td>\n",
       "      <td>25</td>\n",
       "      <td>25</td>\n",
       "      <td>25</td>\n",
       "      <td>0</td>\n",
       "      <td>25</td>\n",
       "      <td>25</td>\n",
       "      <td>25</td>\n",
       "      <td>0</td>\n",
       "      <td>0</td>\n",
       "    </tr>\n",
       "    <tr>\n",
       "      <th>1846-12-31</th>\n",
       "      <td>0</td>\n",
       "      <td>0</td>\n",
       "      <td>0</td>\n",
       "      <td>0</td>\n",
       "      <td>0</td>\n",
       "      <td>0</td>\n",
       "      <td>0</td>\n",
       "      <td>0</td>\n",
       "      <td>0</td>\n",
       "      <td>0</td>\n",
       "      <td>0</td>\n",
       "    </tr>\n",
       "  </tbody>\n",
       "</table>\n",
       "</div>"
      ],
      "text/plain": [
       "            SID  SEASON  NUMBER  BASIN  SUBBASIN  NAME  NATURE  LAT  LON  \\\n",
       "ISO_TIME                                                                   \n",
       "1842-12-31   65      65      65     65        65     0      65   65   65   \n",
       "1843-12-31    0       0       0      0         0     0       0    0    0   \n",
       "1844-12-31    0       0       0      0         0     0       0    0    0   \n",
       "1845-12-31   25      25      25     25        25     0      25   25   25   \n",
       "1846-12-31    0       0       0      0         0     0       0    0    0   \n",
       "\n",
       "            WIND  PRES  \n",
       "ISO_TIME                \n",
       "1842-12-31     0     0  \n",
       "1843-12-31     0     0  \n",
       "1844-12-31     0     0  \n",
       "1845-12-31     0     0  \n",
       "1846-12-31     0     0  "
      ]
     },
     "execution_count": 118,
     "metadata": {},
     "output_type": "execute_result"
    }
   ],
   "source": [
    "count_of_dp.head()"
   ]
  },
  {
   "cell_type": "code",
   "execution_count": 128,
   "id": "683d449a",
   "metadata": {},
   "outputs": [
    {
     "data": {
      "image/png": "[encoded data removed]",
      "text/plain": [
       "<Figure size 432x288 with 1 Axes>"
      ]
     },
     "metadata": {
      "needs_background": "light"
     },
     "output_type": "display_data"
    }
   ],
   "source": [
    "plt.plot(count_of_dp);"
   ]
  },
  {
   "cell_type": "code",
   "execution_count": 129,
   "id": "8246bbbb",
   "metadata": {
    "scrolled": true
   },
   "outputs": [
    {
     "data": {
      "text/html": [
       "<div>\n",
       "<style scoped>\n",
       "    .dataframe tbody tr th:only-of-type {\n",
       "        vertical-align: middle;\n",
       "    }\n",
       "\n",
       "    .dataframe tbody tr th {\n",
       "        vertical-align: top;\n",
       "    }\n",
       "\n",
       "    .dataframe thead th {\n",
       "        text-align: right;\n",
       "    }\n",
       "</style>\n",
       "<table border=\"1\" class=\"dataframe\">\n",
       "  <thead>\n",
       "    <tr style=\"text-align: right;\">\n",
       "      <th></th>\n",
       "      <th>SID</th>\n",
       "      <th>SEASON</th>\n",
       "      <th>NUMBER</th>\n",
       "      <th>BASIN</th>\n",
       "      <th>SUBBASIN</th>\n",
       "      <th>NAME</th>\n",
       "      <th>NATURE</th>\n",
       "      <th>LAT</th>\n",
       "      <th>LON</th>\n",
       "      <th>WIND</th>\n",
       "      <th>PRES</th>\n",
       "    </tr>\n",
       "    <tr>\n",
       "      <th>ISO_TIME</th>\n",
       "      <th></th>\n",
       "      <th></th>\n",
       "      <th></th>\n",
       "      <th></th>\n",
       "      <th></th>\n",
       "      <th></th>\n",
       "      <th></th>\n",
       "      <th></th>\n",
       "      <th></th>\n",
       "      <th></th>\n",
       "      <th></th>\n",
       "    </tr>\n",
       "  </thead>\n",
       "  <tbody>\n",
       "    <tr>\n",
       "      <th>1842-10-25 03:00:00</th>\n",
       "      <td>1842298N11080</td>\n",
       "      <td>1842</td>\n",
       "      <td>1</td>\n",
       "      <td>NI</td>\n",
       "      <td>BB</td>\n",
       "      <td>NaN</td>\n",
       "      <td>NR</td>\n",
       "      <td>10.9000</td>\n",
       "      <td>80.3000</td>\n",
       "      <td>NaN</td>\n",
       "      <td>NaN</td>\n",
       "    </tr>\n",
       "    <tr>\n",
       "      <th>1842-10-25 06:00:00</th>\n",
       "      <td>1842298N11080</td>\n",
       "      <td>1842</td>\n",
       "      <td>1</td>\n",
       "      <td>NI</td>\n",
       "      <td>BB</td>\n",
       "      <td>NaN</td>\n",
       "      <td>NR</td>\n",
       "      <td>10.8709</td>\n",
       "      <td>79.8265</td>\n",
       "      <td>NaN</td>\n",
       "      <td>NaN</td>\n",
       "    </tr>\n",
       "    <tr>\n",
       "      <th>1842-10-25 09:00:00</th>\n",
       "      <td>1842298N11080</td>\n",
       "      <td>1842</td>\n",
       "      <td>1</td>\n",
       "      <td>NI</td>\n",
       "      <td>BB</td>\n",
       "      <td>NaN</td>\n",
       "      <td>NR</td>\n",
       "      <td>10.8431</td>\n",
       "      <td>79.3524</td>\n",
       "      <td>NaN</td>\n",
       "      <td>NaN</td>\n",
       "    </tr>\n",
       "    <tr>\n",
       "      <th>1842-10-25 12:00:00</th>\n",
       "      <td>1842298N11080</td>\n",
       "      <td>1842</td>\n",
       "      <td>1</td>\n",
       "      <td>NI</td>\n",
       "      <td>BB</td>\n",
       "      <td>NaN</td>\n",
       "      <td>NR</td>\n",
       "      <td>10.8188</td>\n",
       "      <td>78.8772</td>\n",
       "      <td>NaN</td>\n",
       "      <td>NaN</td>\n",
       "    </tr>\n",
       "    <tr>\n",
       "      <th>1842-10-25 15:00:00</th>\n",
       "      <td>1842298N11080</td>\n",
       "      <td>1842</td>\n",
       "      <td>1</td>\n",
       "      <td>NI</td>\n",
       "      <td>BB</td>\n",
       "      <td>NaN</td>\n",
       "      <td>NR</td>\n",
       "      <td>10.8000</td>\n",
       "      <td>78.4000</td>\n",
       "      <td>NaN</td>\n",
       "      <td>NaN</td>\n",
       "    </tr>\n",
       "  </tbody>\n",
       "</table>\n",
       "</div>"
      ],
      "text/plain": [
       "                               SID  SEASON  NUMBER BASIN SUBBASIN NAME NATURE  \\\n",
       "ISO_TIME                                                                        \n",
       "1842-10-25 03:00:00  1842298N11080    1842       1    NI       BB  NaN     NR   \n",
       "1842-10-25 06:00:00  1842298N11080    1842       1    NI       BB  NaN     NR   \n",
       "1842-10-25 09:00:00  1842298N11080    1842       1    NI       BB  NaN     NR   \n",
       "1842-10-25 12:00:00  1842298N11080    1842       1    NI       BB  NaN     NR   \n",
       "1842-10-25 15:00:00  1842298N11080    1842       1    NI       BB  NaN     NR   \n",
       "\n",
       "                         LAT      LON  WIND  PRES  \n",
       "ISO_TIME                                           \n",
       "1842-10-25 03:00:00  10.9000  80.3000   NaN   NaN  \n",
       "1842-10-25 06:00:00  10.8709  79.8265   NaN   NaN  \n",
       "1842-10-25 09:00:00  10.8431  79.3524   NaN   NaN  \n",
       "1842-10-25 12:00:00  10.8188  78.8772   NaN   NaN  \n",
       "1842-10-25 15:00:00  10.8000  78.4000   NaN   NaN  "
      ]
     },
     "execution_count": 129,
     "metadata": {},
     "output_type": "execute_result"
    }
   ],
   "source": [
    "dta_reindx.head()"
   ]
  },
  {
   "cell_type": "markdown",
   "id": "81016915",
   "metadata": {},
   "source": [
    "grouping and filtering to get the data from north atlantinc in 2005"
   ]
  },
  {
   "cell_type": "code",
   "execution_count": 147,
   "id": "9c0144b3",
   "metadata": {},
   "outputs": [],
   "source": [
    "grp = dta_reindx.groupby('BASIN')"
   ]
  },
  {
   "cell_type": "code",
   "execution_count": 144,
   "id": "c82e7c1b",
   "metadata": {},
   "outputs": [
    {
     "data": {
      "text/plain": [
       "pandas.core.groupby.generic.SeriesGroupBy"
      ]
     },
     "execution_count": 144,
     "metadata": {},
     "output_type": "execute_result"
    }
   ],
   "source": [
    "type(grp)"
   ]
  },
  {
   "cell_type": "markdown",
   "id": "09d85bf7",
   "metadata": {},
   "source": [
    "to see the groups in the groupby obj"
   ]
  },
  {
   "cell_type": "code",
   "execution_count": 149,
   "id": "8ea866eb",
   "metadata": {},
   "outputs": [],
   "source": [
    "groups = list(grp.groups)"
   ]
  },
  {
   "cell_type": "code",
   "execution_count": 153,
   "id": "d3d13b8a",
   "metadata": {},
   "outputs": [
    {
     "data": {
      "text/plain": [
       "['EP', 'NA', 'NI', 'SA', 'SI', 'SP', 'WP']"
      ]
     },
     "execution_count": 153,
     "metadata": {},
     "output_type": "execute_result"
    }
   ],
   "source": [
    "groups"
   ]
  },
  {
   "cell_type": "code",
   "execution_count": 156,
   "id": "24ceec8f",
   "metadata": {},
   "outputs": [],
   "source": [
    "na = grp.get_group(('NA'))"
   ]
  },
  {
   "cell_type": "code",
   "execution_count": 157,
   "id": "ded12a71",
   "metadata": {
    "scrolled": true
   },
   "outputs": [
    {
     "data": {
      "text/plain": [
       "pandas.core.frame.DataFrame"
      ]
     },
     "execution_count": 157,
     "metadata": {},
     "output_type": "execute_result"
    }
   ],
   "source": [
    "type(na)"
   ]
  },
  {
   "cell_type": "code",
   "execution_count": 158,
   "id": "88e44e4a",
   "metadata": {},
   "outputs": [
    {
     "data": {
      "text/plain": [
       "ISO_TIME\n",
       "1851-06-23 12:00:00    False\n",
       "1851-06-23 15:00:00    False\n",
       "1851-06-23 18:00:00    False\n",
       "Name: SEASON, dtype: bool"
      ]
     },
     "execution_count": 158,
     "metadata": {},
     "output_type": "execute_result"
    }
   ],
   "source": [
    "#masking and filtering\n",
    "\n",
    "is_2005 = na['SEASON']==2005 #masking for 2005\n",
    "is_2005.head(3)"
   ]
  },
  {
   "cell_type": "code",
   "execution_count": 160,
   "id": "fea0ac8b",
   "metadata": {
    "scrolled": false
   },
   "outputs": [
    {
     "data": {
      "text/html": [
       "<div>\n",
       "<style scoped>\n",
       "    .dataframe tbody tr th:only-of-type {\n",
       "        vertical-align: middle;\n",
       "    }\n",
       "\n",
       "    .dataframe tbody tr th {\n",
       "        vertical-align: top;\n",
       "    }\n",
       "\n",
       "    .dataframe thead th {\n",
       "        text-align: right;\n",
       "    }\n",
       "</style>\n",
       "<table border=\"1\" class=\"dataframe\">\n",
       "  <thead>\n",
       "    <tr style=\"text-align: right;\">\n",
       "      <th></th>\n",
       "      <th>SID</th>\n",
       "      <th>SEASON</th>\n",
       "      <th>NUMBER</th>\n",
       "      <th>BASIN</th>\n",
       "      <th>SUBBASIN</th>\n",
       "      <th>NAME</th>\n",
       "      <th>NATURE</th>\n",
       "      <th>LAT</th>\n",
       "      <th>LON</th>\n",
       "      <th>WIND</th>\n",
       "      <th>PRES</th>\n",
       "    </tr>\n",
       "    <tr>\n",
       "      <th>ISO_TIME</th>\n",
       "      <th></th>\n",
       "      <th></th>\n",
       "      <th></th>\n",
       "      <th></th>\n",
       "      <th></th>\n",
       "      <th></th>\n",
       "      <th></th>\n",
       "      <th></th>\n",
       "      <th></th>\n",
       "      <th></th>\n",
       "      <th></th>\n",
       "    </tr>\n",
       "  </thead>\n",
       "  <tbody>\n",
       "    <tr>\n",
       "      <th>2005-06-08 18:00:00</th>\n",
       "      <td>2005160N17276</td>\n",
       "      <td>2005</td>\n",
       "      <td>31</td>\n",
       "      <td>NA</td>\n",
       "      <td>CS</td>\n",
       "      <td>ARLENE</td>\n",
       "      <td>TS</td>\n",
       "      <td>16.9000</td>\n",
       "      <td>-84.0000</td>\n",
       "      <td>25.0</td>\n",
       "      <td>1004.0</td>\n",
       "    </tr>\n",
       "    <tr>\n",
       "      <th>2005-06-08 21:00:00</th>\n",
       "      <td>2005160N17276</td>\n",
       "      <td>2005</td>\n",
       "      <td>31</td>\n",
       "      <td>NA</td>\n",
       "      <td>CS</td>\n",
       "      <td>ARLENE</td>\n",
       "      <td>TS</td>\n",
       "      <td>17.1200</td>\n",
       "      <td>-83.9425</td>\n",
       "      <td>NaN</td>\n",
       "      <td>NaN</td>\n",
       "    </tr>\n",
       "    <tr>\n",
       "      <th>2005-06-09 00:00:00</th>\n",
       "      <td>2005160N17276</td>\n",
       "      <td>2005</td>\n",
       "      <td>31</td>\n",
       "      <td>NA</td>\n",
       "      <td>CS</td>\n",
       "      <td>ARLENE</td>\n",
       "      <td>TS</td>\n",
       "      <td>17.4000</td>\n",
       "      <td>-83.9000</td>\n",
       "      <td>30.0</td>\n",
       "      <td>1003.0</td>\n",
       "    </tr>\n",
       "    <tr>\n",
       "      <th>2005-06-09 03:00:00</th>\n",
       "      <td>2005160N17276</td>\n",
       "      <td>2005</td>\n",
       "      <td>31</td>\n",
       "      <td>NA</td>\n",
       "      <td>CS</td>\n",
       "      <td>ARLENE</td>\n",
       "      <td>TS</td>\n",
       "      <td>17.7775</td>\n",
       "      <td>-83.8850</td>\n",
       "      <td>NaN</td>\n",
       "      <td>NaN</td>\n",
       "    </tr>\n",
       "    <tr>\n",
       "      <th>2005-06-09 06:00:00</th>\n",
       "      <td>2005160N17276</td>\n",
       "      <td>2005</td>\n",
       "      <td>31</td>\n",
       "      <td>NA</td>\n",
       "      <td>CS</td>\n",
       "      <td>ARLENE</td>\n",
       "      <td>TS</td>\n",
       "      <td>18.2000</td>\n",
       "      <td>-83.9000</td>\n",
       "      <td>35.0</td>\n",
       "      <td>1003.0</td>\n",
       "    </tr>\n",
       "    <tr>\n",
       "      <th>...</th>\n",
       "      <td>...</td>\n",
       "      <td>...</td>\n",
       "      <td>...</td>\n",
       "      <td>...</td>\n",
       "      <td>...</td>\n",
       "      <td>...</td>\n",
       "      <td>...</td>\n",
       "      <td>...</td>\n",
       "      <td>...</td>\n",
       "      <td>...</td>\n",
       "      <td>...</td>\n",
       "    </tr>\n",
       "    <tr>\n",
       "      <th>2006-01-07 06:00:00</th>\n",
       "      <td>2005364N24324</td>\n",
       "      <td>2005</td>\n",
       "      <td>115</td>\n",
       "      <td>NA</td>\n",
       "      <td>NA</td>\n",
       "      <td>ZETA</td>\n",
       "      <td>DS</td>\n",
       "      <td>24.2000</td>\n",
       "      <td>-52.7000</td>\n",
       "      <td>25.0</td>\n",
       "      <td>1012.0</td>\n",
       "    </tr>\n",
       "    <tr>\n",
       "      <th>2006-01-07 09:00:00</th>\n",
       "      <td>2005364N24324</td>\n",
       "      <td>2005</td>\n",
       "      <td>115</td>\n",
       "      <td>NA</td>\n",
       "      <td>NA</td>\n",
       "      <td>ZETA</td>\n",
       "      <td>DS</td>\n",
       "      <td>24.4249</td>\n",
       "      <td>-53.4364</td>\n",
       "      <td>NaN</td>\n",
       "      <td>NaN</td>\n",
       "    </tr>\n",
       "    <tr>\n",
       "      <th>2006-01-07 12:00:00</th>\n",
       "      <td>2005364N24324</td>\n",
       "      <td>2005</td>\n",
       "      <td>115</td>\n",
       "      <td>NA</td>\n",
       "      <td>NA</td>\n",
       "      <td>ZETA</td>\n",
       "      <td>DS</td>\n",
       "      <td>24.8000</td>\n",
       "      <td>-54.2000</td>\n",
       "      <td>25.0</td>\n",
       "      <td>1014.0</td>\n",
       "    </tr>\n",
       "    <tr>\n",
       "      <th>2006-01-07 15:00:00</th>\n",
       "      <td>2005364N24324</td>\n",
       "      <td>2005</td>\n",
       "      <td>115</td>\n",
       "      <td>NA</td>\n",
       "      <td>NA</td>\n",
       "      <td>ZETA</td>\n",
       "      <td>DS</td>\n",
       "      <td>25.4631</td>\n",
       "      <td>-54.9521</td>\n",
       "      <td>NaN</td>\n",
       "      <td>NaN</td>\n",
       "    </tr>\n",
       "    <tr>\n",
       "      <th>2006-01-07 18:00:00</th>\n",
       "      <td>2005364N24324</td>\n",
       "      <td>2005</td>\n",
       "      <td>115</td>\n",
       "      <td>NA</td>\n",
       "      <td>NA</td>\n",
       "      <td>ZETA</td>\n",
       "      <td>DS</td>\n",
       "      <td>26.3000</td>\n",
       "      <td>-55.7000</td>\n",
       "      <td>25.0</td>\n",
       "      <td>1016.0</td>\n",
       "    </tr>\n",
       "  </tbody>\n",
       "</table>\n",
       "<p>1807 rows × 11 columns</p>\n",
       "</div>"
      ],
      "text/plain": [
       "                               SID  SEASON  NUMBER BASIN SUBBASIN    NAME  \\\n",
       "ISO_TIME                                                                    \n",
       "2005-06-08 18:00:00  2005160N17276    2005      31    NA       CS  ARLENE   \n",
       "2005-06-08 21:00:00  2005160N17276    2005      31    NA       CS  ARLENE   \n",
       "2005-06-09 00:00:00  2005160N17276    2005      31    NA       CS  ARLENE   \n",
       "2005-06-09 03:00:00  2005160N17276    2005      31    NA       CS  ARLENE   \n",
       "2005-06-09 06:00:00  2005160N17276    2005      31    NA       CS  ARLENE   \n",
       "...                            ...     ...     ...   ...      ...     ...   \n",
       "2006-01-07 06:00:00  2005364N24324    2005     115    NA       NA    ZETA   \n",
       "2006-01-07 09:00:00  2005364N24324    2005     115    NA       NA    ZETA   \n",
       "2006-01-07 12:00:00  2005364N24324    2005     115    NA       NA    ZETA   \n",
       "2006-01-07 15:00:00  2005364N24324    2005     115    NA       NA    ZETA   \n",
       "2006-01-07 18:00:00  2005364N24324    2005     115    NA       NA    ZETA   \n",
       "\n",
       "                    NATURE      LAT      LON  WIND    PRES  \n",
       "ISO_TIME                                                    \n",
       "2005-06-08 18:00:00     TS  16.9000 -84.0000  25.0  1004.0  \n",
       "2005-06-08 21:00:00     TS  17.1200 -83.9425   NaN     NaN  \n",
       "2005-06-09 00:00:00     TS  17.4000 -83.9000  30.0  1003.0  \n",
       "2005-06-09 03:00:00     TS  17.7775 -83.8850   NaN     NaN  \n",
       "2005-06-09 06:00:00     TS  18.2000 -83.9000  35.0  1003.0  \n",
       "...                    ...      ...      ...   ...     ...  \n",
       "2006-01-07 06:00:00     DS  24.2000 -52.7000  25.0  1012.0  \n",
       "2006-01-07 09:00:00     DS  24.4249 -53.4364   NaN     NaN  \n",
       "2006-01-07 12:00:00     DS  24.8000 -54.2000  25.0  1014.0  \n",
       "2006-01-07 15:00:00     DS  25.4631 -54.9521   NaN     NaN  \n",
       "2006-01-07 18:00:00     DS  26.3000 -55.7000  25.0  1016.0  \n",
       "\n",
       "[1807 rows x 11 columns]"
      ]
     },
     "execution_count": 160,
     "metadata": {},
     "output_type": "execute_result"
    }
   ],
   "source": [
    "na_2005 = na[is_2005] #filtering\n",
    "na_2005"
   ]
  },
  {
   "cell_type": "markdown",
   "id": "6a2db7d5",
   "metadata": {},
   "source": [
    "plotting all tracks from 2005 in North Atlantic"
   ]
  },
  {
   "cell_type": "code",
   "execution_count": 163,
   "id": "542b7d75",
   "metadata": {},
   "outputs": [
    {
     "data": {
      "text/plain": [
       "<matplotlib.collections.PathCollection at 0x7f7112c74190>"
      ]
     },
     "execution_count": 163,
     "metadata": {},
     "output_type": "execute_result"
    },
    {
     "data": {
      "image/png": "[encoded data removed]",
      "text/plain": [
       "<Figure size 432x288 with 1 Axes>"
      ]
     },
     "metadata": {
      "needs_background": "light"
     },
     "output_type": "display_data"
    }
   ],
   "source": [
    "plt.scatter(na_2005['LAT'], na_2005['LON'], c=na_2005['WIND'], alpha=0.3);"
   ]
  },
  {
   "cell_type": "markdown",
   "id": "b518f088",
   "metadata": {},
   "source": [
    "### Filtering the original df for data from 1970 onward for N. Atlantic"
   ]
  },
  {
   "cell_type": "code",
   "execution_count": 164,
   "id": "856ec893",
   "metadata": {},
   "outputs": [],
   "source": [
    "grp2 = dta_reindx.groupby('BASIN')"
   ]
  },
  {
   "cell_type": "code",
   "execution_count": 165,
   "id": "c910fdef",
   "metadata": {},
   "outputs": [],
   "source": [
    "na2 = grp2.get_group(('NA'))"
   ]
  },
  {
   "cell_type": "code",
   "execution_count": 166,
   "id": "382a335b",
   "metadata": {},
   "outputs": [],
   "source": [
    "gt_1970 = na2['SEASON']>=1970 #masking >= 1970"
   ]
  },
  {
   "cell_type": "code",
   "execution_count": 168,
   "id": "84563d43",
   "metadata": {
    "scrolled": true
   },
   "outputs": [
    {
     "data": {
      "text/html": [
       "<div>\n",
       "<style scoped>\n",
       "    .dataframe tbody tr th:only-of-type {\n",
       "        vertical-align: middle;\n",
       "    }\n",
       "\n",
       "    .dataframe tbody tr th {\n",
       "        vertical-align: top;\n",
       "    }\n",
       "\n",
       "    .dataframe thead th {\n",
       "        text-align: right;\n",
       "    }\n",
       "</style>\n",
       "<table border=\"1\" class=\"dataframe\">\n",
       "  <thead>\n",
       "    <tr style=\"text-align: right;\">\n",
       "      <th></th>\n",
       "      <th>SID</th>\n",
       "      <th>SEASON</th>\n",
       "      <th>NUMBER</th>\n",
       "      <th>BASIN</th>\n",
       "      <th>SUBBASIN</th>\n",
       "      <th>NAME</th>\n",
       "      <th>NATURE</th>\n",
       "      <th>LAT</th>\n",
       "      <th>LON</th>\n",
       "      <th>WIND</th>\n",
       "      <th>PRES</th>\n",
       "    </tr>\n",
       "    <tr>\n",
       "      <th>ISO_TIME</th>\n",
       "      <th></th>\n",
       "      <th></th>\n",
       "      <th></th>\n",
       "      <th></th>\n",
       "      <th></th>\n",
       "      <th></th>\n",
       "      <th></th>\n",
       "      <th></th>\n",
       "      <th></th>\n",
       "      <th></th>\n",
       "      <th></th>\n",
       "    </tr>\n",
       "  </thead>\n",
       "  <tbody>\n",
       "    <tr>\n",
       "      <th>1970-05-17 18:00:00</th>\n",
       "      <td>1970138N12281</td>\n",
       "      <td>1970</td>\n",
       "      <td>43</td>\n",
       "      <td>NA</td>\n",
       "      <td>CS</td>\n",
       "      <td>ALMA</td>\n",
       "      <td>TS</td>\n",
       "      <td>11.5000</td>\n",
       "      <td>-79.0000</td>\n",
       "      <td>25.0</td>\n",
       "      <td>NaN</td>\n",
       "    </tr>\n",
       "    <tr>\n",
       "      <th>1970-05-17 21:00:00</th>\n",
       "      <td>1970138N12281</td>\n",
       "      <td>1970</td>\n",
       "      <td>43</td>\n",
       "      <td>NA</td>\n",
       "      <td>CS</td>\n",
       "      <td>ALMA</td>\n",
       "      <td>TS</td>\n",
       "      <td>11.6112</td>\n",
       "      <td>-79.1038</td>\n",
       "      <td>NaN</td>\n",
       "      <td>NaN</td>\n",
       "    </tr>\n",
       "    <tr>\n",
       "      <th>1970-05-18 00:00:00</th>\n",
       "      <td>1970138N12281</td>\n",
       "      <td>1970</td>\n",
       "      <td>43</td>\n",
       "      <td>NA</td>\n",
       "      <td>CS</td>\n",
       "      <td>ALMA</td>\n",
       "      <td>TS</td>\n",
       "      <td>11.7500</td>\n",
       "      <td>-79.2500</td>\n",
       "      <td>25.0</td>\n",
       "      <td>NaN</td>\n",
       "    </tr>\n",
       "    <tr>\n",
       "      <th>1970-05-18 03:00:00</th>\n",
       "      <td>1970138N12281</td>\n",
       "      <td>1970</td>\n",
       "      <td>43</td>\n",
       "      <td>NA</td>\n",
       "      <td>CS</td>\n",
       "      <td>ALMA</td>\n",
       "      <td>TS</td>\n",
       "      <td>11.9288</td>\n",
       "      <td>-79.4637</td>\n",
       "      <td>NaN</td>\n",
       "      <td>NaN</td>\n",
       "    </tr>\n",
       "    <tr>\n",
       "      <th>1970-05-18 06:00:00</th>\n",
       "      <td>1970138N12281</td>\n",
       "      <td>1970</td>\n",
       "      <td>43</td>\n",
       "      <td>NA</td>\n",
       "      <td>CS</td>\n",
       "      <td>ALMA</td>\n",
       "      <td>TS</td>\n",
       "      <td>12.1000</td>\n",
       "      <td>-79.7000</td>\n",
       "      <td>25.0</td>\n",
       "      <td>NaN</td>\n",
       "    </tr>\n",
       "  </tbody>\n",
       "</table>\n",
       "</div>"
      ],
      "text/plain": [
       "                               SID  SEASON  NUMBER BASIN SUBBASIN  NAME  \\\n",
       "ISO_TIME                                                                  \n",
       "1970-05-17 18:00:00  1970138N12281    1970      43    NA       CS  ALMA   \n",
       "1970-05-17 21:00:00  1970138N12281    1970      43    NA       CS  ALMA   \n",
       "1970-05-18 00:00:00  1970138N12281    1970      43    NA       CS  ALMA   \n",
       "1970-05-18 03:00:00  1970138N12281    1970      43    NA       CS  ALMA   \n",
       "1970-05-18 06:00:00  1970138N12281    1970      43    NA       CS  ALMA   \n",
       "\n",
       "                    NATURE      LAT      LON  WIND  PRES  \n",
       "ISO_TIME                                                  \n",
       "1970-05-17 18:00:00     TS  11.5000 -79.0000  25.0   NaN  \n",
       "1970-05-17 21:00:00     TS  11.6112 -79.1038   NaN   NaN  \n",
       "1970-05-18 00:00:00     TS  11.7500 -79.2500  25.0   NaN  \n",
       "1970-05-18 03:00:00     TS  11.9288 -79.4637   NaN   NaN  \n",
       "1970-05-18 06:00:00     TS  12.1000 -79.7000  25.0   NaN  "
      ]
     },
     "execution_count": 168,
     "metadata": {},
     "output_type": "execute_result"
    }
   ],
   "source": [
    "na_gt_1970 = na2[gt_1970] #filtering"
   ]
  },
  {
   "cell_type": "markdown",
   "id": "d8dabba9",
   "metadata": {},
   "source": [
    "Plot the number of datapoints per day from this filtered dataframe"
   ]
  },
  {
   "cell_type": "code",
   "execution_count": 286,
   "id": "5d4a0162",
   "metadata": {},
   "outputs": [],
   "source": [
    "daily_cnt = na_gt_1970.groupby(na_gt_1970.index.day).count()"
   ]
  },
  {
   "cell_type": "code",
   "execution_count": 292,
   "id": "7ba4ce38",
   "metadata": {},
   "outputs": [
    {
     "data": {
      "image/png": "[encoded data removed]",
      "text/plain": [
       "<Figure size 720x576 with 1 Axes>"
      ]
     },
     "metadata": {
      "needs_background": "light"
     },
     "output_type": "display_data"
    }
   ],
   "source": [
    "daily_cnt.plot(figsize=(10,8));"
   ]
  },
  {
   "cell_type": "code",
   "execution_count": 240,
   "id": "f1d7ccc0",
   "metadata": {},
   "outputs": [],
   "source": [
    "#another way\n",
    "\n",
    "na_gt_1970['count'] = 1"
   ]
  },
  {
   "cell_type": "code",
   "execution_count": 243,
   "id": "02e94ed4",
   "metadata": {},
   "outputs": [],
   "source": [
    "daily_c = na_gt_1970.groupby(na_gt_1970.index.day).aggregate({'count': 'sum'})"
   ]
  },
  {
   "cell_type": "code",
   "execution_count": 248,
   "id": "8131b2bb",
   "metadata": {},
   "outputs": [
    {
     "data": {
      "text/plain": [
       "31"
      ]
     },
     "execution_count": 248,
     "metadata": {},
     "output_type": "execute_result"
    }
   ],
   "source": [
    "daily_c.size"
   ]
  },
  {
   "cell_type": "code",
   "execution_count": 259,
   "id": "84849248",
   "metadata": {},
   "outputs": [
    {
     "data": {
      "image/png": "[encoded data removed]",
      "text/plain": [
       "<Figure size 576x432 with 1 Axes>"
      ]
     },
     "metadata": {
      "needs_background": "light"
     },
     "output_type": "display_data"
    }
   ],
   "source": [
    "daily_c.plot(figsize=(8,6)); #we get the same thing"
   ]
  },
  {
   "cell_type": "markdown",
   "id": "14bbda17",
   "metadata": {},
   "source": [
    "Calculate the climatology of datapoint counts as a function of dayofyear"
   ]
  },
  {
   "cell_type": "code",
   "execution_count": 281,
   "id": "5ad91f91",
   "metadata": {},
   "outputs": [
    {
     "data": {
      "image/png": "[encoded data removed]",
      "text/plain": [
       "<Figure size 864x648 with 1 Axes>"
      ]
     },
     "metadata": {
      "needs_background": "light"
     },
     "output_type": "display_data"
    }
   ],
   "source": [
    "daily_clim = na_gt_1970.groupby(na_gt_1970.index.dayofyear).count()\n",
    "\n",
    "daily_clim.plot(figsize=(12,9), marker='.');"
   ]
  },
  {
   "cell_type": "markdown",
   "id": "29740ed0",
   "metadata": {},
   "source": [
    "daily_climatology = na_gt_1970.groupby(na_gt_1970.index.dayofyear).aggregate({'count': 'sum'})\n",
    "\n",
    "daily_climatology.plot(figsize=(12,9), marker='.');"
   ]
  },
  {
   "cell_type": "code",
   "execution_count": 278,
   "id": "16c7e1da",
   "metadata": {},
   "outputs": [
    {
     "data": {
      "text/html": [
       "<div>\n",
       "<style scoped>\n",
       "    .dataframe tbody tr th:only-of-type {\n",
       "        vertical-align: middle;\n",
       "    }\n",
       "\n",
       "    .dataframe tbody tr th {\n",
       "        vertical-align: top;\n",
       "    }\n",
       "\n",
       "    .dataframe thead th {\n",
       "        text-align: right;\n",
       "    }\n",
       "</style>\n",
       "<table border=\"1\" class=\"dataframe\">\n",
       "  <thead>\n",
       "    <tr style=\"text-align: right;\">\n",
       "      <th></th>\n",
       "      <th>count</th>\n",
       "    </tr>\n",
       "    <tr>\n",
       "      <th>ISO_TIME</th>\n",
       "      <th></th>\n",
       "    </tr>\n",
       "  </thead>\n",
       "  <tbody>\n",
       "    <tr>\n",
       "      <th>1</th>\n",
       "      <td>8</td>\n",
       "    </tr>\n",
       "    <tr>\n",
       "      <th>2</th>\n",
       "      <td>8</td>\n",
       "    </tr>\n",
       "  </tbody>\n",
       "</table>\n",
       "</div>"
      ],
      "text/plain": [
       "          count\n",
       "ISO_TIME       \n",
       "1             8\n",
       "2             8"
      ]
     },
     "execution_count": 278,
     "metadata": {},
     "output_type": "execute_result"
    }
   ],
   "source": [
    "daily_climatology.head(2)"
   ]
  },
  {
   "cell_type": "markdown",
   "id": "67ec3740",
   "metadata": {},
   "source": [
    "daily_clim_mstd = na_gt_1970.groupby(na_gt_1970.index.dayofyear).aggregate({'count': 'mean',\n",
    "                                                                      'count': 'std'})\n",
    "\n",
    "daily_clim_mstd.plot(figsize=(8,6), marker='.')"
   ]
  },
  {
   "cell_type": "markdown",
   "id": "32d56231",
   "metadata": {},
   "source": [
    "### anomaly evaluation"
   ]
  },
  {
   "cell_type": "code",
   "execution_count": 299,
   "id": "44f4f507",
   "metadata": {},
   "outputs": [
    {
     "data": {
      "image/png": "[encoded data removed]",
      "text/plain": [
       "<Figure size 864x648 with 1 Axes>"
      ]
     },
     "metadata": {
      "needs_background": "light"
     },
     "output_type": "display_data"
    }
   ],
   "source": [
    "def standardize(x):\n",
    "    return (x - x.mean())/x.std()\n",
    "\n",
    "anomaly = na_gt_1970['NUMBER'].groupby(na_gt_1970.index.dayofyear).transform(standardize)\n",
    "anomaly.plot(figsize=(12,9));"
   ]
  }
 ],
 "metadata": {
  "kernelspec": {
   "display_name": "Python 3 (ipykernel)",
   "language": "python",
   "name": "python3"
  },
  "language_info": {
   "codemirror_mode": {
    "name": "ipython",
    "version": 3
   },
   "file_extension": ".py",
   "mimetype": "text/x-python",
   "name": "python",
   "nbconvert_exporter": "python",
   "pygments_lexer": "ipython3",
   "version": "3.8.13"
  }
 },
 "nbformat": 4,
 "nbformat_minor": 5
}
